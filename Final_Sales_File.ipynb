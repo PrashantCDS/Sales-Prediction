{
 "cells": [
  {
   "cell_type": "markdown",
   "id": "7724e4b1",
   "metadata": {},
   "source": [
    "                                                 __Bussiness Case__\n",
    "                                                 \n",
    "FicZon wants to explore Machine Learning to pre-categorize the lead quality and as result, expecting significant increase in sales effectiveness.                                                 "
   ]
  },
  {
   "cell_type": "markdown",
   "id": "078dab38",
   "metadata": {},
   "source": [
    "                                                   __Preface__\n",
    "                                                \n",
    "The situation at FicZon Inc highlights a common challenge in the technology industry where sales effectiveness is crucial, and the reliance on digital channels for lead generation is high. The current manual categorization of leads is proving to be less effective, especially in the face of increasing market competition.\n",
    "\n",
    "In this context, FicZon is considering leveraging Machine Learning (ML) to enhance lead quality pre-categorization.                                                "
   ]
  },
  {
   "cell_type": "markdown",
   "id": "adaa18b4",
   "metadata": {},
   "source": [
    "                                                  __ Domain Analysis__\n",
    "                                                  \n",
    "FicZon Inc is an IT solution provider with products ranging from on premises products to SAAS based solutions. FicZon major leads generation channel is digital and through their website. FicZon business is majorly dependent on the sales force effectiveness. As the market is maturing and more new competitors entering the market, FicZon is experiencing the dip in sales. Effective sales is dependent on lead quality and as of now, this is based on manual categorization and highly depended on sales staff. Though there is a quality process, which continuously updates the lead categorization, it’s value is in for post analysis, rather than conversation.                                                  "
   ]
  },
  {
   "cell_type": "markdown",
   "id": "a13ee622",
   "metadata": {},
   "source": [
    "                                              __ Dataset Attributes__\n",
    "                                              \n",
    "* __Status__ is the target variable it's shows the status of each entry, possibly whether a sale was successful or not.\n",
    "* __Created__ is shows the timestamp and date when the entry was created..\n",
    "* __Product_ID__ is shows unique id of product.\n",
    "* __Source__ is shows the source from which the lead or data was obtained. \n",
    "* __Mobile__ is show number of customers.\n",
    "* __EMAIL__ is shows email of customers. \n",
    "* __Sales_Agent__ is shows the sales agent associated with each entry. \n",
    "* __Location__ is shows the geographical location associated with each entry.\n",
    "* __Delivery_Mode__ is shows the mode of delivery or shipment associated with each entry.\n"
   ]
  },
  {
   "cell_type": "markdown",
   "id": "8b18084d",
   "metadata": {},
   "source": [
    "                                                __Data Set Fields__\n",
    "For getting a Dataset we have to install pymysql and mysql connector. and the help of mysql i'm going to load dataset and convert into csv file then i'm going to work on this project."
   ]
  },
  {
   "cell_type": "markdown",
   "id": "a82ccf47",
   "metadata": {},
   "source": [
    "                                              __ Python Implementation__"
   ]
  },
  {
   "cell_type": "code",
   "execution_count": 1,
   "id": "f5c2c4fc",
   "metadata": {},
   "outputs": [
    {
     "name": "stdout",
     "output_type": "stream",
     "text": [
      "Requirement already satisfied: pymysql in c:\\users\\prash\\anaconda3\\lib\\site-packages (1.0.3)\n",
      "Requirement already satisfied: mysql-connector in c:\\users\\prash\\anaconda3\\lib\\site-packages (2.2.9)\n"
     ]
    }
   ],
   "source": [
    "import pandas as pd   # Import pandas for analyzing,Cleaning,Exploring and manipluating Data.\n",
    "import numpy as np    # Import Numpy for working with mathematical parts and numerical.\n",
    "import seaborn as sns # Import Seaborn for Visualize data and plot Statistical graph.\n",
    "import matplotlib.pyplot as plt  # Import matplotlib.pyplot for visualize data and plot statistical graph.\n",
    "import mysql.connector    # installing pymysql and mysql-connector package for making connections to database server\n",
    "!pip install pymysql  \n",
    "!pip install mysql-connector\n",
    "# for ignoring warning\n",
    "import warnings\n",
    "warnings.filterwarnings(\"ignore\")"
   ]
  },
  {
   "cell_type": "code",
   "execution_count": 2,
   "id": "297e4495",
   "metadata": {},
   "outputs": [],
   "source": [
    "## making connections to database server\n",
    "connection=mysql.connector.connect(host = \"18.136.157.135\",\n",
    "                                  user='dm_team2',\n",
    "                                  password='DM!$Team&27@9!20!')"
   ]
  },
  {
   "cell_type": "code",
   "execution_count": 3,
   "id": "0465cee9",
   "metadata": {},
   "outputs": [
    {
     "name": "stdout",
     "output_type": "stream",
     "text": [
      "('information_schema',)\n",
      "('project_sales',)\n"
     ]
    }
   ],
   "source": [
    "## Check the number of databases available on the server\n",
    "cursor=connection.cursor()\n",
    "cursor.execute('show databases')\n",
    "for i in cursor:\n",
    "    print(i)"
   ]
  },
  {
   "cell_type": "code",
   "execution_count": 4,
   "id": "39e78e27",
   "metadata": {},
   "outputs": [],
   "source": [
    "## making connections to database server\n",
    "connection=mysql.connector.connect(host = \"18.136.157.135\",\n",
    "                                  user='dm_team2',\n",
    "                                  password='DM!$Team&27@9!20!',\n",
    "                                  database = \"project_sales\")"
   ]
  },
  {
   "cell_type": "code",
   "execution_count": 5,
   "id": "5ab9b829",
   "metadata": {},
   "outputs": [
    {
     "name": "stdout",
     "output_type": "stream",
     "text": [
      "  Tables_in_project_sales\n",
      "0                    data\n"
     ]
    }
   ],
   "source": [
    "project_sales = pd.read_sql_query(\"show tables\",connection)\n",
    "print(project_sales)"
   ]
  },
  {
   "cell_type": "code",
   "execution_count": 6,
   "id": "8c8520e9",
   "metadata": {},
   "outputs": [
    {
     "data": {
      "text/html": [
       "<div>\n",
       "<style scoped>\n",
       "    .dataframe tbody tr th:only-of-type {\n",
       "        vertical-align: middle;\n",
       "    }\n",
       "\n",
       "    .dataframe tbody tr th {\n",
       "        vertical-align: top;\n",
       "    }\n",
       "\n",
       "    .dataframe thead th {\n",
       "        text-align: right;\n",
       "    }\n",
       "</style>\n",
       "<table border=\"1\" class=\"dataframe\">\n",
       "  <thead>\n",
       "    <tr style=\"text-align: right;\">\n",
       "      <th></th>\n",
       "      <th>Created</th>\n",
       "      <th>Product_ID</th>\n",
       "      <th>Source</th>\n",
       "      <th>Mobile</th>\n",
       "      <th>EMAIL</th>\n",
       "      <th>Sales_Agent</th>\n",
       "      <th>Location</th>\n",
       "      <th>Delivery_Mode</th>\n",
       "      <th>Status</th>\n",
       "    </tr>\n",
       "  </thead>\n",
       "  <tbody>\n",
       "    <tr>\n",
       "      <th>0</th>\n",
       "      <td>14-11-2018 10:05</td>\n",
       "      <td></td>\n",
       "      <td>Website</td>\n",
       "      <td>984XXXXXXX</td>\n",
       "      <td>aXXXXXXX@gmail.com</td>\n",
       "      <td>Sales-Agent-11</td>\n",
       "      <td></td>\n",
       "      <td>Mode-5</td>\n",
       "      <td>Open</td>\n",
       "    </tr>\n",
       "    <tr>\n",
       "      <th>1</th>\n",
       "      <td>14-11-2018 09:22</td>\n",
       "      <td></td>\n",
       "      <td>Website</td>\n",
       "      <td>XXXXXXX</td>\n",
       "      <td>#VALUE!</td>\n",
       "      <td>Sales-Agent-10</td>\n",
       "      <td></td>\n",
       "      <td>Mode-5</td>\n",
       "      <td>Open</td>\n",
       "    </tr>\n",
       "    <tr>\n",
       "      <th>2</th>\n",
       "      <td>14-11-2018 09:21</td>\n",
       "      <td></td>\n",
       "      <td>Website</td>\n",
       "      <td>XXXXXXX</td>\n",
       "      <td>dXXXXXXX@yahoo.com</td>\n",
       "      <td>Sales-Agent-10</td>\n",
       "      <td></td>\n",
       "      <td>Mode-5</td>\n",
       "      <td>Open</td>\n",
       "    </tr>\n",
       "    <tr>\n",
       "      <th>3</th>\n",
       "      <td>14-11-2018 08:46</td>\n",
       "      <td></td>\n",
       "      <td>Website</td>\n",
       "      <td>XXXXXXX</td>\n",
       "      <td>wXXXXXXX@gmail.com</td>\n",
       "      <td>Sales-Agent-10</td>\n",
       "      <td></td>\n",
       "      <td>Mode-5</td>\n",
       "      <td>Open</td>\n",
       "    </tr>\n",
       "    <tr>\n",
       "      <th>4</th>\n",
       "      <td>14-11-2018 07:34</td>\n",
       "      <td></td>\n",
       "      <td>Website</td>\n",
       "      <td>XXXXXXX</td>\n",
       "      <td>cXXXXXXX@gmail.com</td>\n",
       "      <td>Sales-Agent-10</td>\n",
       "      <td></td>\n",
       "      <td>Mode-5</td>\n",
       "      <td>Open</td>\n",
       "    </tr>\n",
       "    <tr>\n",
       "      <th>...</th>\n",
       "      <td>...</td>\n",
       "      <td>...</td>\n",
       "      <td>...</td>\n",
       "      <td>...</td>\n",
       "      <td>...</td>\n",
       "      <td>...</td>\n",
       "      <td>...</td>\n",
       "      <td>...</td>\n",
       "      <td>...</td>\n",
       "    </tr>\n",
       "    <tr>\n",
       "      <th>7417</th>\n",
       "      <td>28-04-2018 09:45</td>\n",
       "      <td>9</td>\n",
       "      <td>Call</td>\n",
       "      <td></td>\n",
       "      <td>aXXXXXXX@gmail.com</td>\n",
       "      <td>Sales-Agent-6</td>\n",
       "      <td>Mumbai</td>\n",
       "      <td>Mode-4</td>\n",
       "      <td>LOST</td>\n",
       "    </tr>\n",
       "    <tr>\n",
       "      <th>7418</th>\n",
       "      <td>28-04-2018 09:43</td>\n",
       "      <td>15</td>\n",
       "      <td>Call</td>\n",
       "      <td></td>\n",
       "      <td>#VALUE!</td>\n",
       "      <td>Sales-Agent-12</td>\n",
       "      <td>Other Locations</td>\n",
       "      <td>Mode-5</td>\n",
       "      <td>LOST</td>\n",
       "    </tr>\n",
       "    <tr>\n",
       "      <th>7419</th>\n",
       "      <td>28-04-2018 09:20</td>\n",
       "      <td>5</td>\n",
       "      <td>Live Chat-Direct</td>\n",
       "      <td></td>\n",
       "      <td>sXXXXXXX@gmail.com</td>\n",
       "      <td>Sales-Agent-11</td>\n",
       "      <td>Bangalore</td>\n",
       "      <td>Mode-1</td>\n",
       "      <td>Not Responding</td>\n",
       "    </tr>\n",
       "    <tr>\n",
       "      <th>7420</th>\n",
       "      <td>28-04-2018 08:04</td>\n",
       "      <td>21</td>\n",
       "      <td>CRM form</td>\n",
       "      <td></td>\n",
       "      <td>YXXXXXXX@gmail.com</td>\n",
       "      <td>Sales-Agent-4</td>\n",
       "      <td>Other Locations</td>\n",
       "      <td>Mode-1</td>\n",
       "      <td>Just Enquiry</td>\n",
       "    </tr>\n",
       "    <tr>\n",
       "      <th>7421</th>\n",
       "      <td>28-04-2018 07:54</td>\n",
       "      <td>25</td>\n",
       "      <td>Website</td>\n",
       "      <td></td>\n",
       "      <td>cXXXXXXX@gmail.com</td>\n",
       "      <td>Sales-Agent-3</td>\n",
       "      <td>Chennai</td>\n",
       "      <td>Mode-1</td>\n",
       "      <td>CONVERTED</td>\n",
       "    </tr>\n",
       "  </tbody>\n",
       "</table>\n",
       "<p>7422 rows × 9 columns</p>\n",
       "</div>"
      ],
      "text/plain": [
       "               Created Product_ID            Source      Mobile  \\\n",
       "0     14-11-2018 10:05                      Website  984XXXXXXX   \n",
       "1     14-11-2018 09:22                      Website     XXXXXXX   \n",
       "2     14-11-2018 09:21                      Website     XXXXXXX   \n",
       "3     14-11-2018 08:46                      Website     XXXXXXX   \n",
       "4     14-11-2018 07:34                      Website     XXXXXXX   \n",
       "...                ...        ...               ...         ...   \n",
       "7417  28-04-2018 09:45          9              Call               \n",
       "7418  28-04-2018 09:43         15              Call               \n",
       "7419  28-04-2018 09:20          5  Live Chat-Direct               \n",
       "7420  28-04-2018 08:04         21          CRM form               \n",
       "7421  28-04-2018 07:54         25           Website               \n",
       "\n",
       "                   EMAIL     Sales_Agent         Location Delivery_Mode  \\\n",
       "0     aXXXXXXX@gmail.com  Sales-Agent-11                         Mode-5   \n",
       "1                #VALUE!  Sales-Agent-10                         Mode-5   \n",
       "2     dXXXXXXX@yahoo.com  Sales-Agent-10                         Mode-5   \n",
       "3     wXXXXXXX@gmail.com  Sales-Agent-10                         Mode-5   \n",
       "4     cXXXXXXX@gmail.com  Sales-Agent-10                         Mode-5   \n",
       "...                  ...             ...              ...           ...   \n",
       "7417  aXXXXXXX@gmail.com   Sales-Agent-6           Mumbai        Mode-4   \n",
       "7418             #VALUE!  Sales-Agent-12  Other Locations        Mode-5   \n",
       "7419  sXXXXXXX@gmail.com  Sales-Agent-11        Bangalore        Mode-1   \n",
       "7420  YXXXXXXX@gmail.com   Sales-Agent-4  Other Locations        Mode-1   \n",
       "7421  cXXXXXXX@gmail.com   Sales-Agent-3          Chennai        Mode-1   \n",
       "\n",
       "              Status  \n",
       "0               Open  \n",
       "1               Open  \n",
       "2               Open  \n",
       "3               Open  \n",
       "4               Open  \n",
       "...              ...  \n",
       "7417            LOST  \n",
       "7418            LOST  \n",
       "7419  Not Responding  \n",
       "7420    Just Enquiry  \n",
       "7421       CONVERTED  \n",
       "\n",
       "[7422 rows x 9 columns]"
      ]
     },
     "execution_count": 6,
     "metadata": {},
     "output_type": "execute_result"
    }
   ],
   "source": [
    "sales_data = pd.read_sql_query(\"select * from data\",connection)\n",
    "sales_data"
   ]
  },
  {
   "cell_type": "markdown",
   "id": "81e61c92",
   "metadata": {},
   "source": [
    "# Basic Checks"
   ]
  },
  {
   "cell_type": "code",
   "execution_count": 7,
   "id": "e1a4d079",
   "metadata": {},
   "outputs": [
    {
     "data": {
      "text/html": [
       "<div>\n",
       "<style scoped>\n",
       "    .dataframe tbody tr th:only-of-type {\n",
       "        vertical-align: middle;\n",
       "    }\n",
       "\n",
       "    .dataframe tbody tr th {\n",
       "        vertical-align: top;\n",
       "    }\n",
       "\n",
       "    .dataframe thead th {\n",
       "        text-align: right;\n",
       "    }\n",
       "</style>\n",
       "<table border=\"1\" class=\"dataframe\">\n",
       "  <thead>\n",
       "    <tr style=\"text-align: right;\">\n",
       "      <th></th>\n",
       "      <th>Created</th>\n",
       "      <th>Product_ID</th>\n",
       "      <th>Source</th>\n",
       "      <th>Mobile</th>\n",
       "      <th>EMAIL</th>\n",
       "      <th>Sales_Agent</th>\n",
       "      <th>Location</th>\n",
       "      <th>Delivery_Mode</th>\n",
       "      <th>Status</th>\n",
       "    </tr>\n",
       "  </thead>\n",
       "  <tbody>\n",
       "    <tr>\n",
       "      <th>0</th>\n",
       "      <td>14-11-2018 10:05</td>\n",
       "      <td></td>\n",
       "      <td>Website</td>\n",
       "      <td>984XXXXXXX</td>\n",
       "      <td>aXXXXXXX@gmail.com</td>\n",
       "      <td>Sales-Agent-11</td>\n",
       "      <td></td>\n",
       "      <td>Mode-5</td>\n",
       "      <td>Open</td>\n",
       "    </tr>\n",
       "    <tr>\n",
       "      <th>1</th>\n",
       "      <td>14-11-2018 09:22</td>\n",
       "      <td></td>\n",
       "      <td>Website</td>\n",
       "      <td>XXXXXXX</td>\n",
       "      <td>#VALUE!</td>\n",
       "      <td>Sales-Agent-10</td>\n",
       "      <td></td>\n",
       "      <td>Mode-5</td>\n",
       "      <td>Open</td>\n",
       "    </tr>\n",
       "    <tr>\n",
       "      <th>2</th>\n",
       "      <td>14-11-2018 09:21</td>\n",
       "      <td></td>\n",
       "      <td>Website</td>\n",
       "      <td>XXXXXXX</td>\n",
       "      <td>dXXXXXXX@yahoo.com</td>\n",
       "      <td>Sales-Agent-10</td>\n",
       "      <td></td>\n",
       "      <td>Mode-5</td>\n",
       "      <td>Open</td>\n",
       "    </tr>\n",
       "    <tr>\n",
       "      <th>3</th>\n",
       "      <td>14-11-2018 08:46</td>\n",
       "      <td></td>\n",
       "      <td>Website</td>\n",
       "      <td>XXXXXXX</td>\n",
       "      <td>wXXXXXXX@gmail.com</td>\n",
       "      <td>Sales-Agent-10</td>\n",
       "      <td></td>\n",
       "      <td>Mode-5</td>\n",
       "      <td>Open</td>\n",
       "    </tr>\n",
       "    <tr>\n",
       "      <th>4</th>\n",
       "      <td>14-11-2018 07:34</td>\n",
       "      <td></td>\n",
       "      <td>Website</td>\n",
       "      <td>XXXXXXX</td>\n",
       "      <td>cXXXXXXX@gmail.com</td>\n",
       "      <td>Sales-Agent-10</td>\n",
       "      <td></td>\n",
       "      <td>Mode-5</td>\n",
       "      <td>Open</td>\n",
       "    </tr>\n",
       "    <tr>\n",
       "      <th>...</th>\n",
       "      <td>...</td>\n",
       "      <td>...</td>\n",
       "      <td>...</td>\n",
       "      <td>...</td>\n",
       "      <td>...</td>\n",
       "      <td>...</td>\n",
       "      <td>...</td>\n",
       "      <td>...</td>\n",
       "      <td>...</td>\n",
       "    </tr>\n",
       "    <tr>\n",
       "      <th>7417</th>\n",
       "      <td>28-04-2018 09:45</td>\n",
       "      <td>9</td>\n",
       "      <td>Call</td>\n",
       "      <td></td>\n",
       "      <td>aXXXXXXX@gmail.com</td>\n",
       "      <td>Sales-Agent-6</td>\n",
       "      <td>Mumbai</td>\n",
       "      <td>Mode-4</td>\n",
       "      <td>LOST</td>\n",
       "    </tr>\n",
       "    <tr>\n",
       "      <th>7418</th>\n",
       "      <td>28-04-2018 09:43</td>\n",
       "      <td>15</td>\n",
       "      <td>Call</td>\n",
       "      <td></td>\n",
       "      <td>#VALUE!</td>\n",
       "      <td>Sales-Agent-12</td>\n",
       "      <td>Other Locations</td>\n",
       "      <td>Mode-5</td>\n",
       "      <td>LOST</td>\n",
       "    </tr>\n",
       "    <tr>\n",
       "      <th>7419</th>\n",
       "      <td>28-04-2018 09:20</td>\n",
       "      <td>5</td>\n",
       "      <td>Live Chat-Direct</td>\n",
       "      <td></td>\n",
       "      <td>sXXXXXXX@gmail.com</td>\n",
       "      <td>Sales-Agent-11</td>\n",
       "      <td>Bangalore</td>\n",
       "      <td>Mode-1</td>\n",
       "      <td>Not Responding</td>\n",
       "    </tr>\n",
       "    <tr>\n",
       "      <th>7420</th>\n",
       "      <td>28-04-2018 08:04</td>\n",
       "      <td>21</td>\n",
       "      <td>CRM form</td>\n",
       "      <td></td>\n",
       "      <td>YXXXXXXX@gmail.com</td>\n",
       "      <td>Sales-Agent-4</td>\n",
       "      <td>Other Locations</td>\n",
       "      <td>Mode-1</td>\n",
       "      <td>Just Enquiry</td>\n",
       "    </tr>\n",
       "    <tr>\n",
       "      <th>7421</th>\n",
       "      <td>28-04-2018 07:54</td>\n",
       "      <td>25</td>\n",
       "      <td>Website</td>\n",
       "      <td></td>\n",
       "      <td>cXXXXXXX@gmail.com</td>\n",
       "      <td>Sales-Agent-3</td>\n",
       "      <td>Chennai</td>\n",
       "      <td>Mode-1</td>\n",
       "      <td>CONVERTED</td>\n",
       "    </tr>\n",
       "  </tbody>\n",
       "</table>\n",
       "<p>7422 rows × 9 columns</p>\n",
       "</div>"
      ],
      "text/plain": [
       "               Created Product_ID            Source      Mobile  \\\n",
       "0     14-11-2018 10:05                      Website  984XXXXXXX   \n",
       "1     14-11-2018 09:22                      Website     XXXXXXX   \n",
       "2     14-11-2018 09:21                      Website     XXXXXXX   \n",
       "3     14-11-2018 08:46                      Website     XXXXXXX   \n",
       "4     14-11-2018 07:34                      Website     XXXXXXX   \n",
       "...                ...        ...               ...         ...   \n",
       "7417  28-04-2018 09:45          9              Call               \n",
       "7418  28-04-2018 09:43         15              Call               \n",
       "7419  28-04-2018 09:20          5  Live Chat-Direct               \n",
       "7420  28-04-2018 08:04         21          CRM form               \n",
       "7421  28-04-2018 07:54         25           Website               \n",
       "\n",
       "                   EMAIL     Sales_Agent         Location Delivery_Mode  \\\n",
       "0     aXXXXXXX@gmail.com  Sales-Agent-11                         Mode-5   \n",
       "1                #VALUE!  Sales-Agent-10                         Mode-5   \n",
       "2     dXXXXXXX@yahoo.com  Sales-Agent-10                         Mode-5   \n",
       "3     wXXXXXXX@gmail.com  Sales-Agent-10                         Mode-5   \n",
       "4     cXXXXXXX@gmail.com  Sales-Agent-10                         Mode-5   \n",
       "...                  ...             ...              ...           ...   \n",
       "7417  aXXXXXXX@gmail.com   Sales-Agent-6           Mumbai        Mode-4   \n",
       "7418             #VALUE!  Sales-Agent-12  Other Locations        Mode-5   \n",
       "7419  sXXXXXXX@gmail.com  Sales-Agent-11        Bangalore        Mode-1   \n",
       "7420  YXXXXXXX@gmail.com   Sales-Agent-4  Other Locations        Mode-1   \n",
       "7421  cXXXXXXX@gmail.com   Sales-Agent-3          Chennai        Mode-1   \n",
       "\n",
       "              Status  \n",
       "0               Open  \n",
       "1               Open  \n",
       "2               Open  \n",
       "3               Open  \n",
       "4               Open  \n",
       "...              ...  \n",
       "7417            LOST  \n",
       "7418            LOST  \n",
       "7419  Not Responding  \n",
       "7420    Just Enquiry  \n",
       "7421       CONVERTED  \n",
       "\n",
       "[7422 rows x 9 columns]"
      ]
     },
     "execution_count": 7,
     "metadata": {},
     "output_type": "execute_result"
    }
   ],
   "source": [
    "sales_data"
   ]
  },
  {
   "cell_type": "code",
   "execution_count": 8,
   "id": "652bc912",
   "metadata": {},
   "outputs": [
    {
     "name": "stdout",
     "output_type": "stream",
     "text": [
      "<class 'pandas.core.frame.DataFrame'>\n",
      "RangeIndex: 7422 entries, 0 to 7421\n",
      "Data columns (total 9 columns):\n",
      " #   Column         Non-Null Count  Dtype \n",
      "---  ------         --------------  ----- \n",
      " 0   Created        7422 non-null   object\n",
      " 1   Product_ID     7422 non-null   object\n",
      " 2   Source         7422 non-null   object\n",
      " 3   Mobile         7422 non-null   object\n",
      " 4   EMAIL          7422 non-null   object\n",
      " 5   Sales_Agent    7422 non-null   object\n",
      " 6   Location       7422 non-null   object\n",
      " 7   Delivery_Mode  7422 non-null   object\n",
      " 8   Status         7422 non-null   object\n",
      "dtypes: object(9)\n",
      "memory usage: 522.0+ KB\n"
     ]
    }
   ],
   "source": [
    "sales_data.info() # to get information about all variables"
   ]
  },
  {
   "cell_type": "code",
   "execution_count": 9,
   "id": "12eab56a",
   "metadata": {},
   "outputs": [
    {
     "data": {
      "text/html": [
       "<div>\n",
       "<style scoped>\n",
       "    .dataframe tbody tr th:only-of-type {\n",
       "        vertical-align: middle;\n",
       "    }\n",
       "\n",
       "    .dataframe tbody tr th {\n",
       "        vertical-align: top;\n",
       "    }\n",
       "\n",
       "    .dataframe thead th {\n",
       "        text-align: right;\n",
       "    }\n",
       "</style>\n",
       "<table border=\"1\" class=\"dataframe\">\n",
       "  <thead>\n",
       "    <tr style=\"text-align: right;\">\n",
       "      <th></th>\n",
       "      <th>Created</th>\n",
       "      <th>Product_ID</th>\n",
       "      <th>Source</th>\n",
       "      <th>Mobile</th>\n",
       "      <th>EMAIL</th>\n",
       "      <th>Sales_Agent</th>\n",
       "      <th>Location</th>\n",
       "      <th>Delivery_Mode</th>\n",
       "      <th>Status</th>\n",
       "    </tr>\n",
       "  </thead>\n",
       "  <tbody>\n",
       "    <tr>\n",
       "      <th>count</th>\n",
       "      <td>7422</td>\n",
       "      <td>7422</td>\n",
       "      <td>7422</td>\n",
       "      <td>7422</td>\n",
       "      <td>7422</td>\n",
       "      <td>7422</td>\n",
       "      <td>7422</td>\n",
       "      <td>7422</td>\n",
       "      <td>7422</td>\n",
       "    </tr>\n",
       "    <tr>\n",
       "      <th>unique</th>\n",
       "      <td>6752</td>\n",
       "      <td>30</td>\n",
       "      <td>26</td>\n",
       "      <td>487</td>\n",
       "      <td>883</td>\n",
       "      <td>13</td>\n",
       "      <td>18</td>\n",
       "      <td>5</td>\n",
       "      <td>11</td>\n",
       "    </tr>\n",
       "    <tr>\n",
       "      <th>top</th>\n",
       "      <td>26-09-2018 11:30</td>\n",
       "      <td>18</td>\n",
       "      <td>Call</td>\n",
       "      <td></td>\n",
       "      <td>#VALUE!</td>\n",
       "      <td>Sales-Agent-4</td>\n",
       "      <td>Other Locations</td>\n",
       "      <td>Mode-5</td>\n",
       "      <td>Junk Lead</td>\n",
       "    </tr>\n",
       "    <tr>\n",
       "      <th>freq</th>\n",
       "      <td>4</td>\n",
       "      <td>1711</td>\n",
       "      <td>2547</td>\n",
       "      <td>1810</td>\n",
       "      <td>1701</td>\n",
       "      <td>1500</td>\n",
       "      <td>2500</td>\n",
       "      <td>2975</td>\n",
       "      <td>1536</td>\n",
       "    </tr>\n",
       "  </tbody>\n",
       "</table>\n",
       "</div>"
      ],
      "text/plain": [
       "                 Created Product_ID Source Mobile    EMAIL    Sales_Agent  \\\n",
       "count               7422       7422   7422   7422     7422           7422   \n",
       "unique              6752         30     26    487      883             13   \n",
       "top     26-09-2018 11:30         18   Call         #VALUE!  Sales-Agent-4   \n",
       "freq                   4       1711   2547   1810     1701           1500   \n",
       "\n",
       "               Location Delivery_Mode     Status  \n",
       "count              7422          7422       7422  \n",
       "unique               18             5         11  \n",
       "top     Other Locations        Mode-5  Junk Lead  \n",
       "freq               2500          2975       1536  "
      ]
     },
     "execution_count": 9,
     "metadata": {},
     "output_type": "execute_result"
    }
   ],
   "source": [
    "sales_data.describe()  # to get statistical information about all categorical variables"
   ]
  },
  {
   "cell_type": "markdown",
   "id": "3e15b7ec",
   "metadata": {},
   "source": [
    "### Insights from basic checks-\n",
    "\n",
    "* In this dataset 7422 records and 9 columns,all columns are categorical columns.\n",
    "* Status is our target variable.\n",
    "* In this dataset there is no missing values."
   ]
  },
  {
   "cell_type": "markdown",
   "id": "8a79acb6",
   "metadata": {},
   "source": [
    "# Exploratory Data Analysis-"
   ]
  },
  {
   "cell_type": "code",
   "execution_count": 10,
   "id": "8ecd679a",
   "metadata": {},
   "outputs": [
    {
     "data": {
      "image/png": "[encoded data removed]",
      "text/plain": [
       "<Figure size 640x480 with 1 Axes>"
      ]
     },
     "metadata": {},
     "output_type": "display_data"
    }
   ],
   "source": [
    "# Countplot for Source of most order \n",
    "\n",
    "sns.countplot(sales_data.Source)  # countplot for plot graph\n",
    "plt.xticks(rotation=90)   # rotaion for ratating unique value\n",
    "plt.title(\"Source of most orders\")   # title of this graph\n",
    "plt.show()  #for shoeing graph"
   ]
  },
  {
   "cell_type": "markdown",
   "id": "6547e7f7",
   "metadata": {},
   "source": [
    "#### Insights\n",
    "* Source of most order comes by call and Live-Chart Direct."
   ]
  },
  {
   "cell_type": "code",
   "execution_count": 11,
   "id": "23d92188",
   "metadata": {},
   "outputs": [
    {
     "data": {
      "image/png": "[encoded data removed]",
      "text/plain": [
       "<Figure size 640x480 with 1 Axes>"
      ]
     },
     "metadata": {},
     "output_type": "display_data"
    }
   ],
   "source": [
    "# Countplot for Sales Agent\n",
    "\n",
    "\n",
    "sns.countplot(sales_data.Sales_Agent)\n",
    "plt.xticks(rotation=90)\n",
    "plt.title(\"Most orders by Sales Agent\")\n",
    "plt.show()"
   ]
  },
  {
   "cell_type": "markdown",
   "id": "579e9b0e",
   "metadata": {},
   "source": [
    "#### Insights\n",
    "\n",
    "* Most of the orders comes by Agent 4 and Agent 11."
   ]
  },
  {
   "cell_type": "code",
   "execution_count": 12,
   "id": "6d3b98c8",
   "metadata": {},
   "outputs": [
    {
     "data": {
      "image/png": "[encoded data removed]",
      "text/plain": [
       "<Figure size 640x480 with 1 Axes>"
      ]
     },
     "metadata": {},
     "output_type": "display_data"
    }
   ],
   "source": [
    "sns.countplot(sales_data.Location)\n",
    "plt.xticks(rotation=90)\n",
    "plt.title(\"Location of Most of the orders \")\n",
    "plt.show()"
   ]
  },
  {
   "cell_type": "markdown",
   "id": "0d0b0d57",
   "metadata": {},
   "source": [
    "#### Insights\n",
    "\n",
    "* Most of the orders comes from the Bangalore."
   ]
  },
  {
   "cell_type": "code",
   "execution_count": 13,
   "id": "fe0eeb57",
   "metadata": {},
   "outputs": [
    {
     "data": {
      "image/png": "[encoded data removed]",
      "text/plain": [
       "<Figure size 640x480 with 1 Axes>"
      ]
     },
     "metadata": {},
     "output_type": "display_data"
    }
   ],
   "source": [
    "sns.countplot(sales_data.Delivery_Mode)\n",
    "plt.title(\"Delivery mode for orders\")\n",
    "plt.show()"
   ]
  },
  {
   "cell_type": "markdown",
   "id": "e9976dfb",
   "metadata": {},
   "source": [
    "#### Insights\n",
    "\n",
    "* Most of the orders deliver by mode 5."
   ]
  },
  {
   "cell_type": "code",
   "execution_count": 14,
   "id": "f7b135fa",
   "metadata": {},
   "outputs": [
    {
     "data": {
      "image/png": "[encoded data removed]",
      "text/plain": [
       "<Figure size 640x480 with 1 Axes>"
      ]
     },
     "metadata": {},
     "output_type": "display_data"
    }
   ],
   "source": [
    "sns.countplot(sales_data.Status)\n",
    "plt.xticks(rotation=90)\n",
    "plt.title(\"Status of orders\")\n",
    "plt.show()"
   ]
  },
  {
   "cell_type": "markdown",
   "id": "76c2f547",
   "metadata": {},
   "source": [
    "#### insights\n",
    "\n",
    "* Most of the order of Status is in Junk lead."
   ]
  },
  {
   "cell_type": "code",
   "execution_count": 15,
   "id": "8c400517",
   "metadata": {},
   "outputs": [
    {
     "data": {
      "image/png": "[encoded data removed]",
      "text/plain": [
       "<Figure size 640x480 with 1 Axes>"
      ]
     },
     "metadata": {},
     "output_type": "display_data"
    }
   ],
   "source": [
    "sns.countplot(sales_data.Delivery_Mode,hue=sales_data.Sales_Agent)\n",
    "plt.xticks(rotation=90)\n",
    "plt.title(\"Sales Agent vs Delivery Mode\")\n",
    "plt.show()"
   ]
  },
  {
   "cell_type": "markdown",
   "id": "c4f47907",
   "metadata": {},
   "source": [
    "#### Insights\n",
    "* Most of the Delivery do by Agent 11 and Agent 4."
   ]
  },
  {
   "cell_type": "code",
   "execution_count": 16,
   "id": "7665351a",
   "metadata": {},
   "outputs": [
    {
     "data": {
      "text/plain": [
       "Text(0.5, 1.0, 'Delivery Mode vs Location')"
      ]
     },
     "execution_count": 16,
     "metadata": {},
     "output_type": "execute_result"
    },
    {
     "data": {
      "image/png": "[encoded data removed]",
      "text/plain": [
       "<Figure size 640x480 with 1 Axes>"
      ]
     },
     "metadata": {},
     "output_type": "display_data"
    }
   ],
   "source": [
    "sns.countplot(sales_data.Delivery_Mode,hue=sales_data.Location,dodge=False,saturation=2,)\n",
    "plt.title(\"Delivery Mode vs Location\")"
   ]
  },
  {
   "cell_type": "markdown",
   "id": "84786ea5",
   "metadata": {},
   "source": [
    "#### Insights\n",
    "\n",
    "* Most of the order of other Locations is delivered by mode 4.\n",
    "* Most of the order of bangalore is delivered by Mode 1."
   ]
  },
  {
   "cell_type": "markdown",
   "id": "8199cdc8",
   "metadata": {},
   "source": [
    "# Final Insights:-\n",
    "* Source of most order comes by call and Live-Chart Direct.\n",
    "* Most of the orders comes by Agent 4 and Agent 11.\n",
    "* Most of the orders comes from the Bangalore.\n",
    "* Most of the orders deliver by mode 5.\n",
    "* Most of the order of Status is in Junk lead.\n",
    "* Most of the Delivery do by Agent 11 and Agent 4.\n",
    "* Most of the order of other Locations is delivered by mode 4.\n",
    "* Most of the order of bangalore is delivered by Mode 1."
   ]
  },
  {
   "cell_type": "markdown",
   "id": "06f41de0",
   "metadata": {},
   "source": [
    "# Data Preprocessing -\n",
    "\n",
    "* There is no missing values showing but in this data set some values having space( ) which are actually null values.So, we are going to excute a loop where '' is we just replace with np.nan.\n",
    "* We have to fill missing values by statistical method.\n",
    "* We have to create a column for Created variable seperately of day.month,year,hours and minutes for understanding the model\n",
    "* We have to change categorical data into numerical data by help of LabelEncoder and OneHot Encoder or manually.\n",
    "* We have to drop unnecessary columns."
   ]
  },
  {
   "cell_type": "code",
   "execution_count": 17,
   "id": "8ddd3e72",
   "metadata": {},
   "outputs": [
    {
     "data": {
      "text/plain": [
       "Created          0\n",
       "Product_ID       0\n",
       "Source           0\n",
       "Mobile           0\n",
       "EMAIL            0\n",
       "Sales_Agent      0\n",
       "Location         0\n",
       "Delivery_Mode    0\n",
       "Status           0\n",
       "dtype: int64"
      ]
     },
     "execution_count": 17,
     "metadata": {},
     "output_type": "execute_result"
    }
   ],
   "source": [
    "sales_data.isnull().sum()\n",
    "# there is no missing showing but in this data set some values having space( ) which are actually null values.\n"
   ]
  },
  {
   "cell_type": "code",
   "execution_count": 18,
   "id": "7e60f3a5",
   "metadata": {},
   "outputs": [],
   "source": [
    "# runnning a loop for replace replace '' with nan to get actual null values.\n",
    "\n",
    "for i in sales_data.columns:\n",
    "    sales_data[i].replace(\"\", np.nan,inplace=True)"
   ]
  },
  {
   "cell_type": "code",
   "execution_count": 19,
   "id": "165b0ce6",
   "metadata": {},
   "outputs": [
    {
     "data": {
      "text/html": [
       "<div>\n",
       "<style scoped>\n",
       "    .dataframe tbody tr th:only-of-type {\n",
       "        vertical-align: middle;\n",
       "    }\n",
       "\n",
       "    .dataframe tbody tr th {\n",
       "        vertical-align: top;\n",
       "    }\n",
       "\n",
       "    .dataframe thead th {\n",
       "        text-align: right;\n",
       "    }\n",
       "</style>\n",
       "<table border=\"1\" class=\"dataframe\">\n",
       "  <thead>\n",
       "    <tr style=\"text-align: right;\">\n",
       "      <th></th>\n",
       "      <th>Created</th>\n",
       "      <th>Product_ID</th>\n",
       "      <th>Source</th>\n",
       "      <th>Mobile</th>\n",
       "      <th>EMAIL</th>\n",
       "      <th>Sales_Agent</th>\n",
       "      <th>Location</th>\n",
       "      <th>Delivery_Mode</th>\n",
       "      <th>Status</th>\n",
       "    </tr>\n",
       "  </thead>\n",
       "  <tbody>\n",
       "    <tr>\n",
       "      <th>0</th>\n",
       "      <td>14-11-2018 10:05</td>\n",
       "      <td>NaN</td>\n",
       "      <td>Website</td>\n",
       "      <td>984XXXXXXX</td>\n",
       "      <td>aXXXXXXX@gmail.com</td>\n",
       "      <td>Sales-Agent-11</td>\n",
       "      <td>NaN</td>\n",
       "      <td>Mode-5</td>\n",
       "      <td>Open</td>\n",
       "    </tr>\n",
       "    <tr>\n",
       "      <th>1</th>\n",
       "      <td>14-11-2018 09:22</td>\n",
       "      <td>NaN</td>\n",
       "      <td>Website</td>\n",
       "      <td>XXXXXXX</td>\n",
       "      <td>#VALUE!</td>\n",
       "      <td>Sales-Agent-10</td>\n",
       "      <td>NaN</td>\n",
       "      <td>Mode-5</td>\n",
       "      <td>Open</td>\n",
       "    </tr>\n",
       "    <tr>\n",
       "      <th>2</th>\n",
       "      <td>14-11-2018 09:21</td>\n",
       "      <td>NaN</td>\n",
       "      <td>Website</td>\n",
       "      <td>XXXXXXX</td>\n",
       "      <td>dXXXXXXX@yahoo.com</td>\n",
       "      <td>Sales-Agent-10</td>\n",
       "      <td>NaN</td>\n",
       "      <td>Mode-5</td>\n",
       "      <td>Open</td>\n",
       "    </tr>\n",
       "    <tr>\n",
       "      <th>3</th>\n",
       "      <td>14-11-2018 08:46</td>\n",
       "      <td>NaN</td>\n",
       "      <td>Website</td>\n",
       "      <td>XXXXXXX</td>\n",
       "      <td>wXXXXXXX@gmail.com</td>\n",
       "      <td>Sales-Agent-10</td>\n",
       "      <td>NaN</td>\n",
       "      <td>Mode-5</td>\n",
       "      <td>Open</td>\n",
       "    </tr>\n",
       "    <tr>\n",
       "      <th>4</th>\n",
       "      <td>14-11-2018 07:34</td>\n",
       "      <td>NaN</td>\n",
       "      <td>Website</td>\n",
       "      <td>XXXXXXX</td>\n",
       "      <td>cXXXXXXX@gmail.com</td>\n",
       "      <td>Sales-Agent-10</td>\n",
       "      <td>NaN</td>\n",
       "      <td>Mode-5</td>\n",
       "      <td>Open</td>\n",
       "    </tr>\n",
       "    <tr>\n",
       "      <th>...</th>\n",
       "      <td>...</td>\n",
       "      <td>...</td>\n",
       "      <td>...</td>\n",
       "      <td>...</td>\n",
       "      <td>...</td>\n",
       "      <td>...</td>\n",
       "      <td>...</td>\n",
       "      <td>...</td>\n",
       "      <td>...</td>\n",
       "    </tr>\n",
       "    <tr>\n",
       "      <th>7417</th>\n",
       "      <td>28-04-2018 09:45</td>\n",
       "      <td>9</td>\n",
       "      <td>Call</td>\n",
       "      <td>NaN</td>\n",
       "      <td>aXXXXXXX@gmail.com</td>\n",
       "      <td>Sales-Agent-6</td>\n",
       "      <td>Mumbai</td>\n",
       "      <td>Mode-4</td>\n",
       "      <td>LOST</td>\n",
       "    </tr>\n",
       "    <tr>\n",
       "      <th>7418</th>\n",
       "      <td>28-04-2018 09:43</td>\n",
       "      <td>15</td>\n",
       "      <td>Call</td>\n",
       "      <td>NaN</td>\n",
       "      <td>#VALUE!</td>\n",
       "      <td>Sales-Agent-12</td>\n",
       "      <td>Other Locations</td>\n",
       "      <td>Mode-5</td>\n",
       "      <td>LOST</td>\n",
       "    </tr>\n",
       "    <tr>\n",
       "      <th>7419</th>\n",
       "      <td>28-04-2018 09:20</td>\n",
       "      <td>5</td>\n",
       "      <td>Live Chat-Direct</td>\n",
       "      <td>NaN</td>\n",
       "      <td>sXXXXXXX@gmail.com</td>\n",
       "      <td>Sales-Agent-11</td>\n",
       "      <td>Bangalore</td>\n",
       "      <td>Mode-1</td>\n",
       "      <td>Not Responding</td>\n",
       "    </tr>\n",
       "    <tr>\n",
       "      <th>7420</th>\n",
       "      <td>28-04-2018 08:04</td>\n",
       "      <td>21</td>\n",
       "      <td>CRM form</td>\n",
       "      <td>NaN</td>\n",
       "      <td>YXXXXXXX@gmail.com</td>\n",
       "      <td>Sales-Agent-4</td>\n",
       "      <td>Other Locations</td>\n",
       "      <td>Mode-1</td>\n",
       "      <td>Just Enquiry</td>\n",
       "    </tr>\n",
       "    <tr>\n",
       "      <th>7421</th>\n",
       "      <td>28-04-2018 07:54</td>\n",
       "      <td>25</td>\n",
       "      <td>Website</td>\n",
       "      <td>NaN</td>\n",
       "      <td>cXXXXXXX@gmail.com</td>\n",
       "      <td>Sales-Agent-3</td>\n",
       "      <td>Chennai</td>\n",
       "      <td>Mode-1</td>\n",
       "      <td>CONVERTED</td>\n",
       "    </tr>\n",
       "  </tbody>\n",
       "</table>\n",
       "<p>7422 rows × 9 columns</p>\n",
       "</div>"
      ],
      "text/plain": [
       "               Created Product_ID            Source      Mobile  \\\n",
       "0     14-11-2018 10:05        NaN           Website  984XXXXXXX   \n",
       "1     14-11-2018 09:22        NaN           Website     XXXXXXX   \n",
       "2     14-11-2018 09:21        NaN           Website     XXXXXXX   \n",
       "3     14-11-2018 08:46        NaN           Website     XXXXXXX   \n",
       "4     14-11-2018 07:34        NaN           Website     XXXXXXX   \n",
       "...                ...        ...               ...         ...   \n",
       "7417  28-04-2018 09:45          9              Call         NaN   \n",
       "7418  28-04-2018 09:43         15              Call         NaN   \n",
       "7419  28-04-2018 09:20          5  Live Chat-Direct         NaN   \n",
       "7420  28-04-2018 08:04         21          CRM form         NaN   \n",
       "7421  28-04-2018 07:54         25           Website         NaN   \n",
       "\n",
       "                   EMAIL     Sales_Agent         Location Delivery_Mode  \\\n",
       "0     aXXXXXXX@gmail.com  Sales-Agent-11              NaN        Mode-5   \n",
       "1                #VALUE!  Sales-Agent-10              NaN        Mode-5   \n",
       "2     dXXXXXXX@yahoo.com  Sales-Agent-10              NaN        Mode-5   \n",
       "3     wXXXXXXX@gmail.com  Sales-Agent-10              NaN        Mode-5   \n",
       "4     cXXXXXXX@gmail.com  Sales-Agent-10              NaN        Mode-5   \n",
       "...                  ...             ...              ...           ...   \n",
       "7417  aXXXXXXX@gmail.com   Sales-Agent-6           Mumbai        Mode-4   \n",
       "7418             #VALUE!  Sales-Agent-12  Other Locations        Mode-5   \n",
       "7419  sXXXXXXX@gmail.com  Sales-Agent-11        Bangalore        Mode-1   \n",
       "7420  YXXXXXXX@gmail.com   Sales-Agent-4  Other Locations        Mode-1   \n",
       "7421  cXXXXXXX@gmail.com   Sales-Agent-3          Chennai        Mode-1   \n",
       "\n",
       "              Status  \n",
       "0               Open  \n",
       "1               Open  \n",
       "2               Open  \n",
       "3               Open  \n",
       "4               Open  \n",
       "...              ...  \n",
       "7417            LOST  \n",
       "7418            LOST  \n",
       "7419  Not Responding  \n",
       "7420    Just Enquiry  \n",
       "7421       CONVERTED  \n",
       "\n",
       "[7422 rows x 9 columns]"
      ]
     },
     "execution_count": 19,
     "metadata": {},
     "output_type": "execute_result"
    }
   ],
   "source": [
    "sales_data"
   ]
  },
  {
   "cell_type": "code",
   "execution_count": 20,
   "id": "66e4ea2c",
   "metadata": {},
   "outputs": [
    {
     "data": {
      "text/plain": [
       "Created             0\n",
       "Product_ID         58\n",
       "Source             17\n",
       "Mobile           1810\n",
       "EMAIL               0\n",
       "Sales_Agent        23\n",
       "Location           58\n",
       "Delivery_Mode       0\n",
       "Status              0\n",
       "dtype: int64"
      ]
     },
     "execution_count": 20,
     "metadata": {},
     "output_type": "execute_result"
    }
   ],
   "source": [
    "sales_data.isnull().sum() # here we can see that null values is showing."
   ]
  },
  {
   "cell_type": "code",
   "execution_count": 21,
   "id": "117eb753",
   "metadata": {},
   "outputs": [],
   "source": [
    "# lets fill all the null values with statistical methods\n",
    "sales_data.loc[sales_data[\"Product_ID\"].isnull(),\"Product_ID\"] = 18\n",
    "sales_data.loc[sales_data[\"Source\"].isnull(),\"Source\"] = \"Call\"\n",
    "sales_data.loc[sales_data[\"Mobile\"].isnull(),\"Mobile\"] = \"988XXXXXXX\"\n",
    "sales_data.loc[sales_data[\"Sales_Agent\"].isnull(),\"Sales_Agent\"] = \"Sales-Agent-4\"\n",
    "sales_data.loc[sales_data[\"Location\"].isnull(),\"Location\"] = \"Bangalore\""
   ]
  },
  {
   "cell_type": "code",
   "execution_count": 22,
   "id": "7fadeae3",
   "metadata": {},
   "outputs": [
    {
     "data": {
      "text/plain": [
       "Created          0\n",
       "Product_ID       0\n",
       "Source           0\n",
       "Mobile           0\n",
       "EMAIL            0\n",
       "Sales_Agent      0\n",
       "Location         0\n",
       "Delivery_Mode    0\n",
       "Status           0\n",
       "dtype: int64"
      ]
     },
     "execution_count": 22,
     "metadata": {},
     "output_type": "execute_result"
    }
   ],
   "source": [
    "# Now we don't have any null values\n",
    "sales_data.isnull().sum() "
   ]
  },
  {
   "cell_type": "code",
   "execution_count": 23,
   "id": "98f5d4cf",
   "metadata": {},
   "outputs": [],
   "source": [
    "# Lets create a column for Created variable seperately of day.month,year,hours and minutes.\n",
    "# here we don't create year variable because we have only one year of data\n",
    "\n",
    "sales_data[\"Created_day\"] = pd.to_datetime(sales_data.Created).dt.day\n",
    "sales_data[\"Created_month\"] = pd.to_datetime(sales_data.Created).dt.month\n",
    "sales_data[\"Created_hour\"] = pd.to_datetime(sales_data.Created).dt.hour\n",
    "sales_data[\"Created_min\"] = pd.to_datetime(sales_data.Created).dt.minute"
   ]
  },
  {
   "cell_type": "markdown",
   "id": "32642838",
   "metadata": {},
   "source": [
    "### Change Categorical Data into Numerical Data-"
   ]
  },
  {
   "cell_type": "code",
   "execution_count": 24,
   "id": "47aea72b",
   "metadata": {},
   "outputs": [],
   "source": [
    "# convert into numcerical data\n",
    "sales_data[\"Product_ID\"] = sales_data.Product_ID.astype(int)"
   ]
  },
  {
   "cell_type": "code",
   "execution_count": 25,
   "id": "19c90f01",
   "metadata": {},
   "outputs": [],
   "source": [
    "# by the help of LabelEncoder convert categorical data into numerical\n",
    "from sklearn.preprocessing import LabelEncoder\n",
    "le = LabelEncoder()\n",
    "\n",
    "sales_data.Source = le.fit_transform(sales_data.Source)\n",
    "sales_data.Sales_Agent = le.fit_transform(sales_data.Sales_Agent)\n",
    "sales_data.Location = le.fit_transform(sales_data.Location)"
   ]
  },
  {
   "cell_type": "code",
   "execution_count": 26,
   "id": "6d9dbf40",
   "metadata": {},
   "outputs": [],
   "source": [
    "# based on Business case we have to change Status variable into high Potential and Low Potential\n",
    "\n",
    "sales_data.Status.replace([\"CONVERTED\",\"Potential\",\"In Progress Positive\",\"converted\"],\"High Potential\",inplace=True)\n",
    "sales_data.Status.replace([\"Junk Lead\",\"Not Responding\",\"Just Enquiry\",\"Long Term\",\"In Progress Negative\",\"LOST\",\"Open\"],\n",
    "                          \"Low potential\",inplace=True)"
   ]
  },
  {
   "cell_type": "code",
   "execution_count": 27,
   "id": "43e5b740",
   "metadata": {},
   "outputs": [
    {
     "data": {
      "text/html": [
       "<div>\n",
       "<style scoped>\n",
       "    .dataframe tbody tr th:only-of-type {\n",
       "        vertical-align: middle;\n",
       "    }\n",
       "\n",
       "    .dataframe tbody tr th {\n",
       "        vertical-align: top;\n",
       "    }\n",
       "\n",
       "    .dataframe thead th {\n",
       "        text-align: right;\n",
       "    }\n",
       "</style>\n",
       "<table border=\"1\" class=\"dataframe\">\n",
       "  <thead>\n",
       "    <tr style=\"text-align: right;\">\n",
       "      <th></th>\n",
       "      <th>Created</th>\n",
       "      <th>Product_ID</th>\n",
       "      <th>Source</th>\n",
       "      <th>Mobile</th>\n",
       "      <th>EMAIL</th>\n",
       "      <th>Sales_Agent</th>\n",
       "      <th>Location</th>\n",
       "      <th>Delivery_Mode</th>\n",
       "      <th>Status</th>\n",
       "      <th>Created_day</th>\n",
       "      <th>Created_month</th>\n",
       "      <th>Created_hour</th>\n",
       "      <th>Created_min</th>\n",
       "    </tr>\n",
       "  </thead>\n",
       "  <tbody>\n",
       "    <tr>\n",
       "      <th>0</th>\n",
       "      <td>14-11-2018 10:05</td>\n",
       "      <td>18</td>\n",
       "      <td>24</td>\n",
       "      <td>984XXXXXXX</td>\n",
       "      <td>aXXXXXXX@gmail.com</td>\n",
       "      <td>2</td>\n",
       "      <td>1</td>\n",
       "      <td>Mode-5</td>\n",
       "      <td>1</td>\n",
       "      <td>14</td>\n",
       "      <td>11</td>\n",
       "      <td>10</td>\n",
       "      <td>5</td>\n",
       "    </tr>\n",
       "    <tr>\n",
       "      <th>1</th>\n",
       "      <td>14-11-2018 09:22</td>\n",
       "      <td>18</td>\n",
       "      <td>24</td>\n",
       "      <td>XXXXXXX</td>\n",
       "      <td>#VALUE!</td>\n",
       "      <td>1</td>\n",
       "      <td>1</td>\n",
       "      <td>Mode-5</td>\n",
       "      <td>1</td>\n",
       "      <td>14</td>\n",
       "      <td>11</td>\n",
       "      <td>9</td>\n",
       "      <td>22</td>\n",
       "    </tr>\n",
       "    <tr>\n",
       "      <th>2</th>\n",
       "      <td>14-11-2018 09:21</td>\n",
       "      <td>18</td>\n",
       "      <td>24</td>\n",
       "      <td>XXXXXXX</td>\n",
       "      <td>dXXXXXXX@yahoo.com</td>\n",
       "      <td>1</td>\n",
       "      <td>1</td>\n",
       "      <td>Mode-5</td>\n",
       "      <td>1</td>\n",
       "      <td>14</td>\n",
       "      <td>11</td>\n",
       "      <td>9</td>\n",
       "      <td>21</td>\n",
       "    </tr>\n",
       "    <tr>\n",
       "      <th>3</th>\n",
       "      <td>14-11-2018 08:46</td>\n",
       "      <td>18</td>\n",
       "      <td>24</td>\n",
       "      <td>XXXXXXX</td>\n",
       "      <td>wXXXXXXX@gmail.com</td>\n",
       "      <td>1</td>\n",
       "      <td>1</td>\n",
       "      <td>Mode-5</td>\n",
       "      <td>1</td>\n",
       "      <td>14</td>\n",
       "      <td>11</td>\n",
       "      <td>8</td>\n",
       "      <td>46</td>\n",
       "    </tr>\n",
       "    <tr>\n",
       "      <th>4</th>\n",
       "      <td>14-11-2018 07:34</td>\n",
       "      <td>18</td>\n",
       "      <td>24</td>\n",
       "      <td>XXXXXXX</td>\n",
       "      <td>cXXXXXXX@gmail.com</td>\n",
       "      <td>1</td>\n",
       "      <td>1</td>\n",
       "      <td>Mode-5</td>\n",
       "      <td>1</td>\n",
       "      <td>14</td>\n",
       "      <td>11</td>\n",
       "      <td>7</td>\n",
       "      <td>34</td>\n",
       "    </tr>\n",
       "    <tr>\n",
       "      <th>...</th>\n",
       "      <td>...</td>\n",
       "      <td>...</td>\n",
       "      <td>...</td>\n",
       "      <td>...</td>\n",
       "      <td>...</td>\n",
       "      <td>...</td>\n",
       "      <td>...</td>\n",
       "      <td>...</td>\n",
       "      <td>...</td>\n",
       "      <td>...</td>\n",
       "      <td>...</td>\n",
       "      <td>...</td>\n",
       "      <td>...</td>\n",
       "    </tr>\n",
       "    <tr>\n",
       "      <th>7417</th>\n",
       "      <td>28-04-2018 09:45</td>\n",
       "      <td>9</td>\n",
       "      <td>2</td>\n",
       "      <td>988XXXXXXX</td>\n",
       "      <td>aXXXXXXX@gmail.com</td>\n",
       "      <td>8</td>\n",
       "      <td>9</td>\n",
       "      <td>Mode-4</td>\n",
       "      <td>1</td>\n",
       "      <td>28</td>\n",
       "      <td>4</td>\n",
       "      <td>9</td>\n",
       "      <td>45</td>\n",
       "    </tr>\n",
       "    <tr>\n",
       "      <th>7418</th>\n",
       "      <td>28-04-2018 09:43</td>\n",
       "      <td>15</td>\n",
       "      <td>2</td>\n",
       "      <td>988XXXXXXX</td>\n",
       "      <td>#VALUE!</td>\n",
       "      <td>3</td>\n",
       "      <td>10</td>\n",
       "      <td>Mode-5</td>\n",
       "      <td>1</td>\n",
       "      <td>28</td>\n",
       "      <td>4</td>\n",
       "      <td>9</td>\n",
       "      <td>43</td>\n",
       "    </tr>\n",
       "    <tr>\n",
       "      <th>7419</th>\n",
       "      <td>28-04-2018 09:20</td>\n",
       "      <td>5</td>\n",
       "      <td>14</td>\n",
       "      <td>988XXXXXXX</td>\n",
       "      <td>sXXXXXXX@gmail.com</td>\n",
       "      <td>2</td>\n",
       "      <td>1</td>\n",
       "      <td>Mode-1</td>\n",
       "      <td>1</td>\n",
       "      <td>28</td>\n",
       "      <td>4</td>\n",
       "      <td>9</td>\n",
       "      <td>20</td>\n",
       "    </tr>\n",
       "    <tr>\n",
       "      <th>7420</th>\n",
       "      <td>28-04-2018 08:04</td>\n",
       "      <td>21</td>\n",
       "      <td>1</td>\n",
       "      <td>988XXXXXXX</td>\n",
       "      <td>YXXXXXXX@gmail.com</td>\n",
       "      <td>6</td>\n",
       "      <td>10</td>\n",
       "      <td>Mode-1</td>\n",
       "      <td>1</td>\n",
       "      <td>28</td>\n",
       "      <td>4</td>\n",
       "      <td>8</td>\n",
       "      <td>4</td>\n",
       "    </tr>\n",
       "    <tr>\n",
       "      <th>7421</th>\n",
       "      <td>28-04-2018 07:54</td>\n",
       "      <td>25</td>\n",
       "      <td>24</td>\n",
       "      <td>988XXXXXXX</td>\n",
       "      <td>cXXXXXXX@gmail.com</td>\n",
       "      <td>5</td>\n",
       "      <td>2</td>\n",
       "      <td>Mode-1</td>\n",
       "      <td>0</td>\n",
       "      <td>28</td>\n",
       "      <td>4</td>\n",
       "      <td>7</td>\n",
       "      <td>54</td>\n",
       "    </tr>\n",
       "  </tbody>\n",
       "</table>\n",
       "<p>7422 rows × 13 columns</p>\n",
       "</div>"
      ],
      "text/plain": [
       "               Created  Product_ID  Source      Mobile               EMAIL  \\\n",
       "0     14-11-2018 10:05          18      24  984XXXXXXX  aXXXXXXX@gmail.com   \n",
       "1     14-11-2018 09:22          18      24     XXXXXXX             #VALUE!   \n",
       "2     14-11-2018 09:21          18      24     XXXXXXX  dXXXXXXX@yahoo.com   \n",
       "3     14-11-2018 08:46          18      24     XXXXXXX  wXXXXXXX@gmail.com   \n",
       "4     14-11-2018 07:34          18      24     XXXXXXX  cXXXXXXX@gmail.com   \n",
       "...                ...         ...     ...         ...                 ...   \n",
       "7417  28-04-2018 09:45           9       2  988XXXXXXX  aXXXXXXX@gmail.com   \n",
       "7418  28-04-2018 09:43          15       2  988XXXXXXX             #VALUE!   \n",
       "7419  28-04-2018 09:20           5      14  988XXXXXXX  sXXXXXXX@gmail.com   \n",
       "7420  28-04-2018 08:04          21       1  988XXXXXXX  YXXXXXXX@gmail.com   \n",
       "7421  28-04-2018 07:54          25      24  988XXXXXXX  cXXXXXXX@gmail.com   \n",
       "\n",
       "      Sales_Agent  Location Delivery_Mode  Status  Created_day  Created_month  \\\n",
       "0               2         1        Mode-5       1           14             11   \n",
       "1               1         1        Mode-5       1           14             11   \n",
       "2               1         1        Mode-5       1           14             11   \n",
       "3               1         1        Mode-5       1           14             11   \n",
       "4               1         1        Mode-5       1           14             11   \n",
       "...           ...       ...           ...     ...          ...            ...   \n",
       "7417            8         9        Mode-4       1           28              4   \n",
       "7418            3        10        Mode-5       1           28              4   \n",
       "7419            2         1        Mode-1       1           28              4   \n",
       "7420            6        10        Mode-1       1           28              4   \n",
       "7421            5         2        Mode-1       0           28              4   \n",
       "\n",
       "      Created_hour  Created_min  \n",
       "0               10            5  \n",
       "1                9           22  \n",
       "2                9           21  \n",
       "3                8           46  \n",
       "4                7           34  \n",
       "...            ...          ...  \n",
       "7417             9           45  \n",
       "7418             9           43  \n",
       "7419             9           20  \n",
       "7420             8            4  \n",
       "7421             7           54  \n",
       "\n",
       "[7422 rows x 13 columns]"
      ]
     },
     "execution_count": 27,
     "metadata": {},
     "output_type": "execute_result"
    }
   ],
   "source": [
    "# convert categorical data into numerical data manually\n",
    "\n",
    "#sales_data.Delivery_Mode.replace({\"Mode-5\":0,\"Mode-1\":1,\"Mode-3\":2,\"Mode-4\":3,\"Mode-2\":4},inplace=True)\n",
    "sales_data.Status.replace({\"High Potential\":0,\"Low potential\":1},inplace=True)\n",
    "\n",
    "sales_data"
   ]
  },
  {
   "cell_type": "code",
   "execution_count": 28,
   "id": "6b08e83b",
   "metadata": {},
   "outputs": [],
   "source": [
    "dele = pd.get_dummies(sales_data.Delivery_Mode)\n",
    "sales_data= pd.concat([sales_data,dele],axis=1)#adding 3 dataFrame in one DataFrame"
   ]
  },
  {
   "cell_type": "code",
   "execution_count": 29,
   "id": "41bbbe19",
   "metadata": {},
   "outputs": [],
   "source": [
    "# lets drop unnecessary columns \n",
    "\n",
    "sales_data.drop([\"Created\",\"Mobile\",\"EMAIL\",\"Delivery_Mode\"],axis=1,inplace=True)"
   ]
  },
  {
   "cell_type": "code",
   "execution_count": 30,
   "id": "cca17231",
   "metadata": {},
   "outputs": [
    {
     "data": {
      "text/html": [
       "<div>\n",
       "<style scoped>\n",
       "    .dataframe tbody tr th:only-of-type {\n",
       "        vertical-align: middle;\n",
       "    }\n",
       "\n",
       "    .dataframe tbody tr th {\n",
       "        vertical-align: top;\n",
       "    }\n",
       "\n",
       "    .dataframe thead th {\n",
       "        text-align: right;\n",
       "    }\n",
       "</style>\n",
       "<table border=\"1\" class=\"dataframe\">\n",
       "  <thead>\n",
       "    <tr style=\"text-align: right;\">\n",
       "      <th></th>\n",
       "      <th>Product_ID</th>\n",
       "      <th>Source</th>\n",
       "      <th>Sales_Agent</th>\n",
       "      <th>Location</th>\n",
       "      <th>Status</th>\n",
       "      <th>Created_day</th>\n",
       "      <th>Created_month</th>\n",
       "      <th>Created_hour</th>\n",
       "      <th>Created_min</th>\n",
       "      <th>Mode-1</th>\n",
       "      <th>Mode-2</th>\n",
       "      <th>Mode-3</th>\n",
       "      <th>Mode-4</th>\n",
       "      <th>Mode-5</th>\n",
       "    </tr>\n",
       "  </thead>\n",
       "  <tbody>\n",
       "    <tr>\n",
       "      <th>0</th>\n",
       "      <td>18</td>\n",
       "      <td>24</td>\n",
       "      <td>2</td>\n",
       "      <td>1</td>\n",
       "      <td>1</td>\n",
       "      <td>14</td>\n",
       "      <td>11</td>\n",
       "      <td>10</td>\n",
       "      <td>5</td>\n",
       "      <td>0</td>\n",
       "      <td>0</td>\n",
       "      <td>0</td>\n",
       "      <td>0</td>\n",
       "      <td>1</td>\n",
       "    </tr>\n",
       "    <tr>\n",
       "      <th>1</th>\n",
       "      <td>18</td>\n",
       "      <td>24</td>\n",
       "      <td>1</td>\n",
       "      <td>1</td>\n",
       "      <td>1</td>\n",
       "      <td>14</td>\n",
       "      <td>11</td>\n",
       "      <td>9</td>\n",
       "      <td>22</td>\n",
       "      <td>0</td>\n",
       "      <td>0</td>\n",
       "      <td>0</td>\n",
       "      <td>0</td>\n",
       "      <td>1</td>\n",
       "    </tr>\n",
       "    <tr>\n",
       "      <th>2</th>\n",
       "      <td>18</td>\n",
       "      <td>24</td>\n",
       "      <td>1</td>\n",
       "      <td>1</td>\n",
       "      <td>1</td>\n",
       "      <td>14</td>\n",
       "      <td>11</td>\n",
       "      <td>9</td>\n",
       "      <td>21</td>\n",
       "      <td>0</td>\n",
       "      <td>0</td>\n",
       "      <td>0</td>\n",
       "      <td>0</td>\n",
       "      <td>1</td>\n",
       "    </tr>\n",
       "    <tr>\n",
       "      <th>3</th>\n",
       "      <td>18</td>\n",
       "      <td>24</td>\n",
       "      <td>1</td>\n",
       "      <td>1</td>\n",
       "      <td>1</td>\n",
       "      <td>14</td>\n",
       "      <td>11</td>\n",
       "      <td>8</td>\n",
       "      <td>46</td>\n",
       "      <td>0</td>\n",
       "      <td>0</td>\n",
       "      <td>0</td>\n",
       "      <td>0</td>\n",
       "      <td>1</td>\n",
       "    </tr>\n",
       "    <tr>\n",
       "      <th>4</th>\n",
       "      <td>18</td>\n",
       "      <td>24</td>\n",
       "      <td>1</td>\n",
       "      <td>1</td>\n",
       "      <td>1</td>\n",
       "      <td>14</td>\n",
       "      <td>11</td>\n",
       "      <td>7</td>\n",
       "      <td>34</td>\n",
       "      <td>0</td>\n",
       "      <td>0</td>\n",
       "      <td>0</td>\n",
       "      <td>0</td>\n",
       "      <td>1</td>\n",
       "    </tr>\n",
       "    <tr>\n",
       "      <th>...</th>\n",
       "      <td>...</td>\n",
       "      <td>...</td>\n",
       "      <td>...</td>\n",
       "      <td>...</td>\n",
       "      <td>...</td>\n",
       "      <td>...</td>\n",
       "      <td>...</td>\n",
       "      <td>...</td>\n",
       "      <td>...</td>\n",
       "      <td>...</td>\n",
       "      <td>...</td>\n",
       "      <td>...</td>\n",
       "      <td>...</td>\n",
       "      <td>...</td>\n",
       "    </tr>\n",
       "    <tr>\n",
       "      <th>7417</th>\n",
       "      <td>9</td>\n",
       "      <td>2</td>\n",
       "      <td>8</td>\n",
       "      <td>9</td>\n",
       "      <td>1</td>\n",
       "      <td>28</td>\n",
       "      <td>4</td>\n",
       "      <td>9</td>\n",
       "      <td>45</td>\n",
       "      <td>0</td>\n",
       "      <td>0</td>\n",
       "      <td>0</td>\n",
       "      <td>1</td>\n",
       "      <td>0</td>\n",
       "    </tr>\n",
       "    <tr>\n",
       "      <th>7418</th>\n",
       "      <td>15</td>\n",
       "      <td>2</td>\n",
       "      <td>3</td>\n",
       "      <td>10</td>\n",
       "      <td>1</td>\n",
       "      <td>28</td>\n",
       "      <td>4</td>\n",
       "      <td>9</td>\n",
       "      <td>43</td>\n",
       "      <td>0</td>\n",
       "      <td>0</td>\n",
       "      <td>0</td>\n",
       "      <td>0</td>\n",
       "      <td>1</td>\n",
       "    </tr>\n",
       "    <tr>\n",
       "      <th>7419</th>\n",
       "      <td>5</td>\n",
       "      <td>14</td>\n",
       "      <td>2</td>\n",
       "      <td>1</td>\n",
       "      <td>1</td>\n",
       "      <td>28</td>\n",
       "      <td>4</td>\n",
       "      <td>9</td>\n",
       "      <td>20</td>\n",
       "      <td>1</td>\n",
       "      <td>0</td>\n",
       "      <td>0</td>\n",
       "      <td>0</td>\n",
       "      <td>0</td>\n",
       "    </tr>\n",
       "    <tr>\n",
       "      <th>7420</th>\n",
       "      <td>21</td>\n",
       "      <td>1</td>\n",
       "      <td>6</td>\n",
       "      <td>10</td>\n",
       "      <td>1</td>\n",
       "      <td>28</td>\n",
       "      <td>4</td>\n",
       "      <td>8</td>\n",
       "      <td>4</td>\n",
       "      <td>1</td>\n",
       "      <td>0</td>\n",
       "      <td>0</td>\n",
       "      <td>0</td>\n",
       "      <td>0</td>\n",
       "    </tr>\n",
       "    <tr>\n",
       "      <th>7421</th>\n",
       "      <td>25</td>\n",
       "      <td>24</td>\n",
       "      <td>5</td>\n",
       "      <td>2</td>\n",
       "      <td>0</td>\n",
       "      <td>28</td>\n",
       "      <td>4</td>\n",
       "      <td>7</td>\n",
       "      <td>54</td>\n",
       "      <td>1</td>\n",
       "      <td>0</td>\n",
       "      <td>0</td>\n",
       "      <td>0</td>\n",
       "      <td>0</td>\n",
       "    </tr>\n",
       "  </tbody>\n",
       "</table>\n",
       "<p>7422 rows × 14 columns</p>\n",
       "</div>"
      ],
      "text/plain": [
       "      Product_ID  Source  Sales_Agent  Location  Status  Created_day  \\\n",
       "0             18      24            2         1       1           14   \n",
       "1             18      24            1         1       1           14   \n",
       "2             18      24            1         1       1           14   \n",
       "3             18      24            1         1       1           14   \n",
       "4             18      24            1         1       1           14   \n",
       "...          ...     ...          ...       ...     ...          ...   \n",
       "7417           9       2            8         9       1           28   \n",
       "7418          15       2            3        10       1           28   \n",
       "7419           5      14            2         1       1           28   \n",
       "7420          21       1            6        10       1           28   \n",
       "7421          25      24            5         2       0           28   \n",
       "\n",
       "      Created_month  Created_hour  Created_min  Mode-1  Mode-2  Mode-3  \\\n",
       "0                11            10            5       0       0       0   \n",
       "1                11             9           22       0       0       0   \n",
       "2                11             9           21       0       0       0   \n",
       "3                11             8           46       0       0       0   \n",
       "4                11             7           34       0       0       0   \n",
       "...             ...           ...          ...     ...     ...     ...   \n",
       "7417              4             9           45       0       0       0   \n",
       "7418              4             9           43       0       0       0   \n",
       "7419              4             9           20       1       0       0   \n",
       "7420              4             8            4       1       0       0   \n",
       "7421              4             7           54       1       0       0   \n",
       "\n",
       "      Mode-4  Mode-5  \n",
       "0          0       1  \n",
       "1          0       1  \n",
       "2          0       1  \n",
       "3          0       1  \n",
       "4          0       1  \n",
       "...      ...     ...  \n",
       "7417       1       0  \n",
       "7418       0       1  \n",
       "7419       0       0  \n",
       "7420       0       0  \n",
       "7421       0       0  \n",
       "\n",
       "[7422 rows x 14 columns]"
      ]
     },
     "execution_count": 30,
     "metadata": {},
     "output_type": "execute_result"
    }
   ],
   "source": [
    "sales_data"
   ]
  },
  {
   "cell_type": "markdown",
   "id": "29124de6",
   "metadata": {},
   "source": [
    "# Scaling -"
   ]
  },
  {
   "cell_type": "code",
   "execution_count": 31,
   "id": "446f5c53",
   "metadata": {},
   "outputs": [],
   "source": [
    "from sklearn.preprocessing import StandardScaler\n",
    "scaler = StandardScaler()\n",
    "\n",
    "sales_data[['Created_month','Created_day','Created_hour','Created_hour']] = pd.DataFrame(scaler.fit_transform(sales_data[['Created_month','Created_day','Created_hour','Created_hour']]))"
   ]
  },
  {
   "cell_type": "code",
   "execution_count": null,
   "id": "f514333a",
   "metadata": {},
   "outputs": [],
   "source": []
  },
  {
   "cell_type": "markdown",
   "id": "217fd135",
   "metadata": {},
   "source": [
    "# Create Model -"
   ]
  },
  {
   "cell_type": "code",
   "execution_count": 32,
   "id": "064cd86c",
   "metadata": {},
   "outputs": [
    {
     "data": {
      "text/html": [
       "<div>\n",
       "<style scoped>\n",
       "    .dataframe tbody tr th:only-of-type {\n",
       "        vertical-align: middle;\n",
       "    }\n",
       "\n",
       "    .dataframe tbody tr th {\n",
       "        vertical-align: top;\n",
       "    }\n",
       "\n",
       "    .dataframe thead th {\n",
       "        text-align: right;\n",
       "    }\n",
       "</style>\n",
       "<table border=\"1\" class=\"dataframe\">\n",
       "  <thead>\n",
       "    <tr style=\"text-align: right;\">\n",
       "      <th></th>\n",
       "      <th>Product_ID</th>\n",
       "      <th>Source</th>\n",
       "      <th>Sales_Agent</th>\n",
       "      <th>Location</th>\n",
       "      <th>Status</th>\n",
       "      <th>Created_day</th>\n",
       "      <th>Created_month</th>\n",
       "      <th>Created_hour</th>\n",
       "      <th>Created_min</th>\n",
       "      <th>Mode-1</th>\n",
       "      <th>Mode-2</th>\n",
       "      <th>Mode-3</th>\n",
       "      <th>Mode-4</th>\n",
       "      <th>Mode-5</th>\n",
       "    </tr>\n",
       "  </thead>\n",
       "  <tbody>\n",
       "    <tr>\n",
       "      <th>Product_ID</th>\n",
       "      <td>1.000000</td>\n",
       "      <td>0.062424</td>\n",
       "      <td>0.002746</td>\n",
       "      <td>-0.043990</td>\n",
       "      <td>-0.062660</td>\n",
       "      <td>0.017112</td>\n",
       "      <td>0.018227</td>\n",
       "      <td>0.026230</td>\n",
       "      <td>-0.014575</td>\n",
       "      <td>0.016821</td>\n",
       "      <td>-0.021760</td>\n",
       "      <td>0.041051</td>\n",
       "      <td>-0.052141</td>\n",
       "      <td>-0.036344</td>\n",
       "    </tr>\n",
       "    <tr>\n",
       "      <th>Source</th>\n",
       "      <td>0.062424</td>\n",
       "      <td>1.000000</td>\n",
       "      <td>-0.030753</td>\n",
       "      <td>0.044849</td>\n",
       "      <td>0.040318</td>\n",
       "      <td>-0.041467</td>\n",
       "      <td>0.022362</td>\n",
       "      <td>0.126722</td>\n",
       "      <td>0.001198</td>\n",
       "      <td>0.053040</td>\n",
       "      <td>-0.012141</td>\n",
       "      <td>0.185290</td>\n",
       "      <td>-0.072071</td>\n",
       "      <td>-0.190663</td>\n",
       "    </tr>\n",
       "    <tr>\n",
       "      <th>Sales_Agent</th>\n",
       "      <td>0.002746</td>\n",
       "      <td>-0.030753</td>\n",
       "      <td>1.000000</td>\n",
       "      <td>-0.112758</td>\n",
       "      <td>-0.153338</td>\n",
       "      <td>-0.003769</td>\n",
       "      <td>0.055223</td>\n",
       "      <td>-0.029807</td>\n",
       "      <td>0.000855</td>\n",
       "      <td>0.193819</td>\n",
       "      <td>0.008650</td>\n",
       "      <td>0.039057</td>\n",
       "      <td>0.013585</td>\n",
       "      <td>-0.226720</td>\n",
       "    </tr>\n",
       "    <tr>\n",
       "      <th>Location</th>\n",
       "      <td>-0.043990</td>\n",
       "      <td>0.044849</td>\n",
       "      <td>-0.112758</td>\n",
       "      <td>1.000000</td>\n",
       "      <td>0.239425</td>\n",
       "      <td>-0.002837</td>\n",
       "      <td>0.005785</td>\n",
       "      <td>-0.087361</td>\n",
       "      <td>-0.003051</td>\n",
       "      <td>-0.423301</td>\n",
       "      <td>0.030185</td>\n",
       "      <td>0.165910</td>\n",
       "      <td>-0.029236</td>\n",
       "      <td>0.276321</td>\n",
       "    </tr>\n",
       "    <tr>\n",
       "      <th>Status</th>\n",
       "      <td>-0.062660</td>\n",
       "      <td>0.040318</td>\n",
       "      <td>-0.153338</td>\n",
       "      <td>0.239425</td>\n",
       "      <td>1.000000</td>\n",
       "      <td>-0.033346</td>\n",
       "      <td>-0.089836</td>\n",
       "      <td>-0.036715</td>\n",
       "      <td>-0.005670</td>\n",
       "      <td>-0.134603</td>\n",
       "      <td>-0.020967</td>\n",
       "      <td>-0.040784</td>\n",
       "      <td>-0.086364</td>\n",
       "      <td>0.190189</td>\n",
       "    </tr>\n",
       "    <tr>\n",
       "      <th>Created_day</th>\n",
       "      <td>0.017112</td>\n",
       "      <td>-0.041467</td>\n",
       "      <td>-0.003769</td>\n",
       "      <td>-0.002837</td>\n",
       "      <td>-0.033346</td>\n",
       "      <td>1.000000</td>\n",
       "      <td>0.113954</td>\n",
       "      <td>-0.013158</td>\n",
       "      <td>-0.011827</td>\n",
       "      <td>-0.054721</td>\n",
       "      <td>-0.016119</td>\n",
       "      <td>0.006184</td>\n",
       "      <td>0.016816</td>\n",
       "      <td>0.045025</td>\n",
       "    </tr>\n",
       "    <tr>\n",
       "      <th>Created_month</th>\n",
       "      <td>0.018227</td>\n",
       "      <td>0.022362</td>\n",
       "      <td>0.055223</td>\n",
       "      <td>0.005785</td>\n",
       "      <td>-0.089836</td>\n",
       "      <td>0.113954</td>\n",
       "      <td>1.000000</td>\n",
       "      <td>0.004846</td>\n",
       "      <td>-0.014924</td>\n",
       "      <td>-0.104284</td>\n",
       "      <td>0.032765</td>\n",
       "      <td>0.090586</td>\n",
       "      <td>-0.014974</td>\n",
       "      <td>0.025573</td>\n",
       "    </tr>\n",
       "    <tr>\n",
       "      <th>Created_hour</th>\n",
       "      <td>0.026230</td>\n",
       "      <td>0.126722</td>\n",
       "      <td>-0.029807</td>\n",
       "      <td>-0.087361</td>\n",
       "      <td>-0.036715</td>\n",
       "      <td>-0.013158</td>\n",
       "      <td>0.004846</td>\n",
       "      <td>1.000000</td>\n",
       "      <td>-0.054901</td>\n",
       "      <td>0.072171</td>\n",
       "      <td>-0.003162</td>\n",
       "      <td>0.044881</td>\n",
       "      <td>0.010162</td>\n",
       "      <td>-0.111188</td>\n",
       "    </tr>\n",
       "    <tr>\n",
       "      <th>Created_min</th>\n",
       "      <td>-0.014575</td>\n",
       "      <td>0.001198</td>\n",
       "      <td>0.000855</td>\n",
       "      <td>-0.003051</td>\n",
       "      <td>-0.005670</td>\n",
       "      <td>-0.011827</td>\n",
       "      <td>-0.014924</td>\n",
       "      <td>-0.054901</td>\n",
       "      <td>1.000000</td>\n",
       "      <td>0.003061</td>\n",
       "      <td>-0.000564</td>\n",
       "      <td>0.003128</td>\n",
       "      <td>-0.001456</td>\n",
       "      <td>-0.005242</td>\n",
       "    </tr>\n",
       "    <tr>\n",
       "      <th>Mode-1</th>\n",
       "      <td>0.016821</td>\n",
       "      <td>0.053040</td>\n",
       "      <td>0.193819</td>\n",
       "      <td>-0.423301</td>\n",
       "      <td>-0.134603</td>\n",
       "      <td>-0.054721</td>\n",
       "      <td>-0.104284</td>\n",
       "      <td>0.072171</td>\n",
       "      <td>0.003061</td>\n",
       "      <td>1.000000</td>\n",
       "      <td>-0.028516</td>\n",
       "      <td>-0.401599</td>\n",
       "      <td>-0.095288</td>\n",
       "      <td>-0.605405</td>\n",
       "    </tr>\n",
       "    <tr>\n",
       "      <th>Mode-2</th>\n",
       "      <td>-0.021760</td>\n",
       "      <td>-0.012141</td>\n",
       "      <td>0.008650</td>\n",
       "      <td>0.030185</td>\n",
       "      <td>-0.020967</td>\n",
       "      <td>-0.016119</td>\n",
       "      <td>0.032765</td>\n",
       "      <td>-0.003162</td>\n",
       "      <td>-0.000564</td>\n",
       "      <td>-0.028516</td>\n",
       "      <td>1.000000</td>\n",
       "      <td>-0.020903</td>\n",
       "      <td>-0.004960</td>\n",
       "      <td>-0.031511</td>\n",
       "    </tr>\n",
       "    <tr>\n",
       "      <th>Mode-3</th>\n",
       "      <td>0.041051</td>\n",
       "      <td>0.185290</td>\n",
       "      <td>0.039057</td>\n",
       "      <td>0.165910</td>\n",
       "      <td>-0.040784</td>\n",
       "      <td>0.006184</td>\n",
       "      <td>0.090586</td>\n",
       "      <td>0.044881</td>\n",
       "      <td>0.003128</td>\n",
       "      <td>-0.401599</td>\n",
       "      <td>-0.020903</td>\n",
       "      <td>1.000000</td>\n",
       "      <td>-0.069849</td>\n",
       "      <td>-0.443780</td>\n",
       "    </tr>\n",
       "    <tr>\n",
       "      <th>Mode-4</th>\n",
       "      <td>-0.052141</td>\n",
       "      <td>-0.072071</td>\n",
       "      <td>0.013585</td>\n",
       "      <td>-0.029236</td>\n",
       "      <td>-0.086364</td>\n",
       "      <td>0.016816</td>\n",
       "      <td>-0.014974</td>\n",
       "      <td>0.010162</td>\n",
       "      <td>-0.001456</td>\n",
       "      <td>-0.095288</td>\n",
       "      <td>-0.004960</td>\n",
       "      <td>-0.069849</td>\n",
       "      <td>1.000000</td>\n",
       "      <td>-0.105296</td>\n",
       "    </tr>\n",
       "    <tr>\n",
       "      <th>Mode-5</th>\n",
       "      <td>-0.036344</td>\n",
       "      <td>-0.190663</td>\n",
       "      <td>-0.226720</td>\n",
       "      <td>0.276321</td>\n",
       "      <td>0.190189</td>\n",
       "      <td>0.045025</td>\n",
       "      <td>0.025573</td>\n",
       "      <td>-0.111188</td>\n",
       "      <td>-0.005242</td>\n",
       "      <td>-0.605405</td>\n",
       "      <td>-0.031511</td>\n",
       "      <td>-0.443780</td>\n",
       "      <td>-0.105296</td>\n",
       "      <td>1.000000</td>\n",
       "    </tr>\n",
       "  </tbody>\n",
       "</table>\n",
       "</div>"
      ],
      "text/plain": [
       "               Product_ID    Source  Sales_Agent  Location    Status  \\\n",
       "Product_ID       1.000000  0.062424     0.002746 -0.043990 -0.062660   \n",
       "Source           0.062424  1.000000    -0.030753  0.044849  0.040318   \n",
       "Sales_Agent      0.002746 -0.030753     1.000000 -0.112758 -0.153338   \n",
       "Location        -0.043990  0.044849    -0.112758  1.000000  0.239425   \n",
       "Status          -0.062660  0.040318    -0.153338  0.239425  1.000000   \n",
       "Created_day      0.017112 -0.041467    -0.003769 -0.002837 -0.033346   \n",
       "Created_month    0.018227  0.022362     0.055223  0.005785 -0.089836   \n",
       "Created_hour     0.026230  0.126722    -0.029807 -0.087361 -0.036715   \n",
       "Created_min     -0.014575  0.001198     0.000855 -0.003051 -0.005670   \n",
       "Mode-1           0.016821  0.053040     0.193819 -0.423301 -0.134603   \n",
       "Mode-2          -0.021760 -0.012141     0.008650  0.030185 -0.020967   \n",
       "Mode-3           0.041051  0.185290     0.039057  0.165910 -0.040784   \n",
       "Mode-4          -0.052141 -0.072071     0.013585 -0.029236 -0.086364   \n",
       "Mode-5          -0.036344 -0.190663    -0.226720  0.276321  0.190189   \n",
       "\n",
       "               Created_day  Created_month  Created_hour  Created_min  \\\n",
       "Product_ID        0.017112       0.018227      0.026230    -0.014575   \n",
       "Source           -0.041467       0.022362      0.126722     0.001198   \n",
       "Sales_Agent      -0.003769       0.055223     -0.029807     0.000855   \n",
       "Location         -0.002837       0.005785     -0.087361    -0.003051   \n",
       "Status           -0.033346      -0.089836     -0.036715    -0.005670   \n",
       "Created_day       1.000000       0.113954     -0.013158    -0.011827   \n",
       "Created_month     0.113954       1.000000      0.004846    -0.014924   \n",
       "Created_hour     -0.013158       0.004846      1.000000    -0.054901   \n",
       "Created_min      -0.011827      -0.014924     -0.054901     1.000000   \n",
       "Mode-1           -0.054721      -0.104284      0.072171     0.003061   \n",
       "Mode-2           -0.016119       0.032765     -0.003162    -0.000564   \n",
       "Mode-3            0.006184       0.090586      0.044881     0.003128   \n",
       "Mode-4            0.016816      -0.014974      0.010162    -0.001456   \n",
       "Mode-5            0.045025       0.025573     -0.111188    -0.005242   \n",
       "\n",
       "                 Mode-1    Mode-2    Mode-3    Mode-4    Mode-5  \n",
       "Product_ID     0.016821 -0.021760  0.041051 -0.052141 -0.036344  \n",
       "Source         0.053040 -0.012141  0.185290 -0.072071 -0.190663  \n",
       "Sales_Agent    0.193819  0.008650  0.039057  0.013585 -0.226720  \n",
       "Location      -0.423301  0.030185  0.165910 -0.029236  0.276321  \n",
       "Status        -0.134603 -0.020967 -0.040784 -0.086364  0.190189  \n",
       "Created_day   -0.054721 -0.016119  0.006184  0.016816  0.045025  \n",
       "Created_month -0.104284  0.032765  0.090586 -0.014974  0.025573  \n",
       "Created_hour   0.072171 -0.003162  0.044881  0.010162 -0.111188  \n",
       "Created_min    0.003061 -0.000564  0.003128 -0.001456 -0.005242  \n",
       "Mode-1         1.000000 -0.028516 -0.401599 -0.095288 -0.605405  \n",
       "Mode-2        -0.028516  1.000000 -0.020903 -0.004960 -0.031511  \n",
       "Mode-3        -0.401599 -0.020903  1.000000 -0.069849 -0.443780  \n",
       "Mode-4        -0.095288 -0.004960 -0.069849  1.000000 -0.105296  \n",
       "Mode-5        -0.605405 -0.031511 -0.443780 -0.105296  1.000000  "
      ]
     },
     "execution_count": 32,
     "metadata": {},
     "output_type": "execute_result"
    }
   ],
   "source": [
    "# it's shows statistical correlation\n",
    "sales_data.corr()"
   ]
  },
  {
   "cell_type": "code",
   "execution_count": 33,
   "id": "e61ec0b9",
   "metadata": {},
   "outputs": [
    {
     "data": {
      "text/plain": [
       "<AxesSubplot:>"
      ]
     },
     "execution_count": 33,
     "metadata": {},
     "output_type": "execute_result"
    },
    {
     "data": {
      "image/png": "[encoded data removed]",
      "text/plain": [
       "<Figure size 1000x1000 with 2 Axes>"
      ]
     },
     "metadata": {},
     "output_type": "display_data"
    }
   ],
   "source": [
    "plt.figure(figsize=(10,10))\n",
    "sns.heatmap(sales_data.corr(),annot=True,cmap=\"ocean_r\")#its show corelation between each and every columns by plot heatmap\n"
   ]
  },
  {
   "cell_type": "code",
   "execution_count": 34,
   "id": "b90e30e3",
   "metadata": {},
   "outputs": [
    {
     "data": {
      "text/plain": [
       "0       1\n",
       "1       1\n",
       "2       1\n",
       "3       1\n",
       "4       1\n",
       "       ..\n",
       "7417    1\n",
       "7418    1\n",
       "7419    1\n",
       "7420    1\n",
       "7421    0\n",
       "Name: Status, Length: 7422, dtype: int64"
      ]
     },
     "execution_count": 34,
     "metadata": {},
     "output_type": "execute_result"
    }
   ],
   "source": [
    "# Let's select the dependent variable and independent variables\n",
    "\n",
    "y = sales_data.Status\n",
    "y"
   ]
  },
  {
   "cell_type": "code",
   "execution_count": 35,
   "id": "b97ec21c",
   "metadata": {
    "scrolled": false
   },
   "outputs": [
    {
     "data": {
      "text/html": [
       "<div>\n",
       "<style scoped>\n",
       "    .dataframe tbody tr th:only-of-type {\n",
       "        vertical-align: middle;\n",
       "    }\n",
       "\n",
       "    .dataframe tbody tr th {\n",
       "        vertical-align: top;\n",
       "    }\n",
       "\n",
       "    .dataframe thead th {\n",
       "        text-align: right;\n",
       "    }\n",
       "</style>\n",
       "<table border=\"1\" class=\"dataframe\">\n",
       "  <thead>\n",
       "    <tr style=\"text-align: right;\">\n",
       "      <th></th>\n",
       "      <th>Product_ID</th>\n",
       "      <th>Source</th>\n",
       "      <th>Sales_Agent</th>\n",
       "      <th>Location</th>\n",
       "      <th>Created_day</th>\n",
       "      <th>Created_month</th>\n",
       "      <th>Created_hour</th>\n",
       "      <th>Mode-1</th>\n",
       "      <th>Mode-2</th>\n",
       "      <th>Mode-3</th>\n",
       "      <th>Mode-4</th>\n",
       "      <th>Mode-5</th>\n",
       "    </tr>\n",
       "  </thead>\n",
       "  <tbody>\n",
       "    <tr>\n",
       "      <th>0</th>\n",
       "      <td>18</td>\n",
       "      <td>24</td>\n",
       "      <td>2</td>\n",
       "      <td>1</td>\n",
       "      <td>-0.264938</td>\n",
       "      <td>1.543279</td>\n",
       "      <td>-0.821831</td>\n",
       "      <td>0</td>\n",
       "      <td>0</td>\n",
       "      <td>0</td>\n",
       "      <td>0</td>\n",
       "      <td>1</td>\n",
       "    </tr>\n",
       "    <tr>\n",
       "      <th>1</th>\n",
       "      <td>18</td>\n",
       "      <td>24</td>\n",
       "      <td>1</td>\n",
       "      <td>1</td>\n",
       "      <td>-0.264938</td>\n",
       "      <td>1.543279</td>\n",
       "      <td>-1.068420</td>\n",
       "      <td>0</td>\n",
       "      <td>0</td>\n",
       "      <td>0</td>\n",
       "      <td>0</td>\n",
       "      <td>1</td>\n",
       "    </tr>\n",
       "    <tr>\n",
       "      <th>2</th>\n",
       "      <td>18</td>\n",
       "      <td>24</td>\n",
       "      <td>1</td>\n",
       "      <td>1</td>\n",
       "      <td>-0.264938</td>\n",
       "      <td>1.543279</td>\n",
       "      <td>-1.068420</td>\n",
       "      <td>0</td>\n",
       "      <td>0</td>\n",
       "      <td>0</td>\n",
       "      <td>0</td>\n",
       "      <td>1</td>\n",
       "    </tr>\n",
       "    <tr>\n",
       "      <th>3</th>\n",
       "      <td>18</td>\n",
       "      <td>24</td>\n",
       "      <td>1</td>\n",
       "      <td>1</td>\n",
       "      <td>-0.264938</td>\n",
       "      <td>1.543279</td>\n",
       "      <td>-1.315009</td>\n",
       "      <td>0</td>\n",
       "      <td>0</td>\n",
       "      <td>0</td>\n",
       "      <td>0</td>\n",
       "      <td>1</td>\n",
       "    </tr>\n",
       "    <tr>\n",
       "      <th>4</th>\n",
       "      <td>18</td>\n",
       "      <td>24</td>\n",
       "      <td>1</td>\n",
       "      <td>1</td>\n",
       "      <td>-0.264938</td>\n",
       "      <td>1.543279</td>\n",
       "      <td>-1.561598</td>\n",
       "      <td>0</td>\n",
       "      <td>0</td>\n",
       "      <td>0</td>\n",
       "      <td>0</td>\n",
       "      <td>1</td>\n",
       "    </tr>\n",
       "    <tr>\n",
       "      <th>...</th>\n",
       "      <td>...</td>\n",
       "      <td>...</td>\n",
       "      <td>...</td>\n",
       "      <td>...</td>\n",
       "      <td>...</td>\n",
       "      <td>...</td>\n",
       "      <td>...</td>\n",
       "      <td>...</td>\n",
       "      <td>...</td>\n",
       "      <td>...</td>\n",
       "      <td>...</td>\n",
       "      <td>...</td>\n",
       "    </tr>\n",
       "    <tr>\n",
       "      <th>7417</th>\n",
       "      <td>9</td>\n",
       "      <td>2</td>\n",
       "      <td>8</td>\n",
       "      <td>9</td>\n",
       "      <td>1.422931</td>\n",
       "      <td>-1.124037</td>\n",
       "      <td>-1.068420</td>\n",
       "      <td>0</td>\n",
       "      <td>0</td>\n",
       "      <td>0</td>\n",
       "      <td>1</td>\n",
       "      <td>0</td>\n",
       "    </tr>\n",
       "    <tr>\n",
       "      <th>7418</th>\n",
       "      <td>15</td>\n",
       "      <td>2</td>\n",
       "      <td>3</td>\n",
       "      <td>10</td>\n",
       "      <td>1.422931</td>\n",
       "      <td>-1.124037</td>\n",
       "      <td>-1.068420</td>\n",
       "      <td>0</td>\n",
       "      <td>0</td>\n",
       "      <td>0</td>\n",
       "      <td>0</td>\n",
       "      <td>1</td>\n",
       "    </tr>\n",
       "    <tr>\n",
       "      <th>7419</th>\n",
       "      <td>5</td>\n",
       "      <td>14</td>\n",
       "      <td>2</td>\n",
       "      <td>1</td>\n",
       "      <td>1.422931</td>\n",
       "      <td>-1.124037</td>\n",
       "      <td>-1.068420</td>\n",
       "      <td>1</td>\n",
       "      <td>0</td>\n",
       "      <td>0</td>\n",
       "      <td>0</td>\n",
       "      <td>0</td>\n",
       "    </tr>\n",
       "    <tr>\n",
       "      <th>7420</th>\n",
       "      <td>21</td>\n",
       "      <td>1</td>\n",
       "      <td>6</td>\n",
       "      <td>10</td>\n",
       "      <td>1.422931</td>\n",
       "      <td>-1.124037</td>\n",
       "      <td>-1.315009</td>\n",
       "      <td>1</td>\n",
       "      <td>0</td>\n",
       "      <td>0</td>\n",
       "      <td>0</td>\n",
       "      <td>0</td>\n",
       "    </tr>\n",
       "    <tr>\n",
       "      <th>7421</th>\n",
       "      <td>25</td>\n",
       "      <td>24</td>\n",
       "      <td>5</td>\n",
       "      <td>2</td>\n",
       "      <td>1.422931</td>\n",
       "      <td>-1.124037</td>\n",
       "      <td>-1.561598</td>\n",
       "      <td>1</td>\n",
       "      <td>0</td>\n",
       "      <td>0</td>\n",
       "      <td>0</td>\n",
       "      <td>0</td>\n",
       "    </tr>\n",
       "  </tbody>\n",
       "</table>\n",
       "<p>7422 rows × 12 columns</p>\n",
       "</div>"
      ],
      "text/plain": [
       "      Product_ID  Source  Sales_Agent  Location  Created_day  Created_month  \\\n",
       "0             18      24            2         1    -0.264938       1.543279   \n",
       "1             18      24            1         1    -0.264938       1.543279   \n",
       "2             18      24            1         1    -0.264938       1.543279   \n",
       "3             18      24            1         1    -0.264938       1.543279   \n",
       "4             18      24            1         1    -0.264938       1.543279   \n",
       "...          ...     ...          ...       ...          ...            ...   \n",
       "7417           9       2            8         9     1.422931      -1.124037   \n",
       "7418          15       2            3        10     1.422931      -1.124037   \n",
       "7419           5      14            2         1     1.422931      -1.124037   \n",
       "7420          21       1            6        10     1.422931      -1.124037   \n",
       "7421          25      24            5         2     1.422931      -1.124037   \n",
       "\n",
       "      Created_hour  Mode-1  Mode-2  Mode-3  Mode-4  Mode-5  \n",
       "0        -0.821831       0       0       0       0       1  \n",
       "1        -1.068420       0       0       0       0       1  \n",
       "2        -1.068420       0       0       0       0       1  \n",
       "3        -1.315009       0       0       0       0       1  \n",
       "4        -1.561598       0       0       0       0       1  \n",
       "...            ...     ...     ...     ...     ...     ...  \n",
       "7417     -1.068420       0       0       0       1       0  \n",
       "7418     -1.068420       0       0       0       0       1  \n",
       "7419     -1.068420       1       0       0       0       0  \n",
       "7420     -1.315009       1       0       0       0       0  \n",
       "7421     -1.561598       1       0       0       0       0  \n",
       "\n",
       "[7422 rows x 12 columns]"
      ]
     },
     "execution_count": 35,
     "metadata": {},
     "output_type": "execute_result"
    }
   ],
   "source": [
    "x = sales_data.drop([\"Status\",\"Created_min\"],axis=1)\n",
    "x"
   ]
  },
  {
   "cell_type": "markdown",
   "id": "ee430862",
   "metadata": {},
   "source": [
    "# Model Creation -"
   ]
  },
  {
   "cell_type": "code",
   "execution_count": 36,
   "id": "2ed26de5",
   "metadata": {},
   "outputs": [],
   "source": [
    "from sklearn.model_selection import train_test_split  # import train test split for spliting the data\n",
    "# creating x_train,x_test,y_train,y_test\n",
    "x_train,x_test,y_train,y_test = train_test_split(x,y,test_size=0.25,random_state=88) "
   ]
  },
  {
   "cell_type": "code",
   "execution_count": 37,
   "id": "07dce4e6",
   "metadata": {},
   "outputs": [
    {
     "data": {
      "text/html": [
       "<div>\n",
       "<style scoped>\n",
       "    .dataframe tbody tr th:only-of-type {\n",
       "        vertical-align: middle;\n",
       "    }\n",
       "\n",
       "    .dataframe tbody tr th {\n",
       "        vertical-align: top;\n",
       "    }\n",
       "\n",
       "    .dataframe thead th {\n",
       "        text-align: right;\n",
       "    }\n",
       "</style>\n",
       "<table border=\"1\" class=\"dataframe\">\n",
       "  <thead>\n",
       "    <tr style=\"text-align: right;\">\n",
       "      <th></th>\n",
       "      <th>Product_ID</th>\n",
       "      <th>Source</th>\n",
       "      <th>Sales_Agent</th>\n",
       "      <th>Location</th>\n",
       "      <th>Created_day</th>\n",
       "      <th>Created_month</th>\n",
       "      <th>Created_hour</th>\n",
       "      <th>Mode-1</th>\n",
       "      <th>Mode-2</th>\n",
       "      <th>Mode-3</th>\n",
       "      <th>Mode-4</th>\n",
       "      <th>Mode-5</th>\n",
       "    </tr>\n",
       "  </thead>\n",
       "  <tbody>\n",
       "    <tr>\n",
       "      <th>3782</th>\n",
       "      <td>9</td>\n",
       "      <td>24</td>\n",
       "      <td>6</td>\n",
       "      <td>6</td>\n",
       "      <td>1.302369</td>\n",
       "      <td>0.019098</td>\n",
       "      <td>-0.575242</td>\n",
       "      <td>0</td>\n",
       "      <td>0</td>\n",
       "      <td>1</td>\n",
       "      <td>0</td>\n",
       "      <td>0</td>\n",
       "    </tr>\n",
       "    <tr>\n",
       "      <th>7169</th>\n",
       "      <td>15</td>\n",
       "      <td>24</td>\n",
       "      <td>5</td>\n",
       "      <td>10</td>\n",
       "      <td>-1.349996</td>\n",
       "      <td>-1.124037</td>\n",
       "      <td>-2.794543</td>\n",
       "      <td>1</td>\n",
       "      <td>0</td>\n",
       "      <td>0</td>\n",
       "      <td>0</td>\n",
       "      <td>0</td>\n",
       "    </tr>\n",
       "    <tr>\n",
       "      <th>6257</th>\n",
       "      <td>5</td>\n",
       "      <td>2</td>\n",
       "      <td>6</td>\n",
       "      <td>1</td>\n",
       "      <td>1.422931</td>\n",
       "      <td>-0.742992</td>\n",
       "      <td>-0.575242</td>\n",
       "      <td>1</td>\n",
       "      <td>0</td>\n",
       "      <td>0</td>\n",
       "      <td>0</td>\n",
       "      <td>0</td>\n",
       "    </tr>\n",
       "    <tr>\n",
       "      <th>4127</th>\n",
       "      <td>19</td>\n",
       "      <td>4</td>\n",
       "      <td>5</td>\n",
       "      <td>10</td>\n",
       "      <td>0.096749</td>\n",
       "      <td>0.019098</td>\n",
       "      <td>1.150882</td>\n",
       "      <td>0</td>\n",
       "      <td>0</td>\n",
       "      <td>0</td>\n",
       "      <td>1</td>\n",
       "      <td>0</td>\n",
       "    </tr>\n",
       "    <tr>\n",
       "      <th>3273</th>\n",
       "      <td>18</td>\n",
       "      <td>14</td>\n",
       "      <td>6</td>\n",
       "      <td>10</td>\n",
       "      <td>-0.988310</td>\n",
       "      <td>0.781188</td>\n",
       "      <td>-0.328653</td>\n",
       "      <td>0</td>\n",
       "      <td>0</td>\n",
       "      <td>0</td>\n",
       "      <td>0</td>\n",
       "      <td>1</td>\n",
       "    </tr>\n",
       "    <tr>\n",
       "      <th>...</th>\n",
       "      <td>...</td>\n",
       "      <td>...</td>\n",
       "      <td>...</td>\n",
       "      <td>...</td>\n",
       "      <td>...</td>\n",
       "      <td>...</td>\n",
       "      <td>...</td>\n",
       "      <td>...</td>\n",
       "      <td>...</td>\n",
       "      <td>...</td>\n",
       "      <td>...</td>\n",
       "      <td>...</td>\n",
       "    </tr>\n",
       "    <tr>\n",
       "      <th>362</th>\n",
       "      <td>9</td>\n",
       "      <td>14</td>\n",
       "      <td>5</td>\n",
       "      <td>6</td>\n",
       "      <td>-0.626624</td>\n",
       "      <td>-1.886127</td>\n",
       "      <td>-0.328653</td>\n",
       "      <td>0</td>\n",
       "      <td>0</td>\n",
       "      <td>1</td>\n",
       "      <td>0</td>\n",
       "      <td>0</td>\n",
       "    </tr>\n",
       "    <tr>\n",
       "      <th>2481</th>\n",
       "      <td>12</td>\n",
       "      <td>7</td>\n",
       "      <td>5</td>\n",
       "      <td>1</td>\n",
       "      <td>-0.867748</td>\n",
       "      <td>-2.267172</td>\n",
       "      <td>-0.821831</td>\n",
       "      <td>0</td>\n",
       "      <td>0</td>\n",
       "      <td>0</td>\n",
       "      <td>1</td>\n",
       "      <td>0</td>\n",
       "    </tr>\n",
       "    <tr>\n",
       "      <th>4047</th>\n",
       "      <td>18</td>\n",
       "      <td>24</td>\n",
       "      <td>3</td>\n",
       "      <td>1</td>\n",
       "      <td>0.337873</td>\n",
       "      <td>0.019098</td>\n",
       "      <td>0.657704</td>\n",
       "      <td>0</td>\n",
       "      <td>0</td>\n",
       "      <td>0</td>\n",
       "      <td>0</td>\n",
       "      <td>1</td>\n",
       "    </tr>\n",
       "    <tr>\n",
       "      <th>6432</th>\n",
       "      <td>27</td>\n",
       "      <td>2</td>\n",
       "      <td>7</td>\n",
       "      <td>10</td>\n",
       "      <td>0.820121</td>\n",
       "      <td>-0.742992</td>\n",
       "      <td>-0.575242</td>\n",
       "      <td>0</td>\n",
       "      <td>0</td>\n",
       "      <td>0</td>\n",
       "      <td>0</td>\n",
       "      <td>1</td>\n",
       "    </tr>\n",
       "    <tr>\n",
       "      <th>2008</th>\n",
       "      <td>15</td>\n",
       "      <td>2</td>\n",
       "      <td>2</td>\n",
       "      <td>10</td>\n",
       "      <td>-0.264938</td>\n",
       "      <td>0.781188</td>\n",
       "      <td>-0.821831</td>\n",
       "      <td>0</td>\n",
       "      <td>0</td>\n",
       "      <td>0</td>\n",
       "      <td>0</td>\n",
       "      <td>1</td>\n",
       "    </tr>\n",
       "  </tbody>\n",
       "</table>\n",
       "<p>5566 rows × 12 columns</p>\n",
       "</div>"
      ],
      "text/plain": [
       "      Product_ID  Source  Sales_Agent  Location  Created_day  Created_month  \\\n",
       "3782           9      24            6         6     1.302369       0.019098   \n",
       "7169          15      24            5        10    -1.349996      -1.124037   \n",
       "6257           5       2            6         1     1.422931      -0.742992   \n",
       "4127          19       4            5        10     0.096749       0.019098   \n",
       "3273          18      14            6        10    -0.988310       0.781188   \n",
       "...          ...     ...          ...       ...          ...            ...   \n",
       "362            9      14            5         6    -0.626624      -1.886127   \n",
       "2481          12       7            5         1    -0.867748      -2.267172   \n",
       "4047          18      24            3         1     0.337873       0.019098   \n",
       "6432          27       2            7        10     0.820121      -0.742992   \n",
       "2008          15       2            2        10    -0.264938       0.781188   \n",
       "\n",
       "      Created_hour  Mode-1  Mode-2  Mode-3  Mode-4  Mode-5  \n",
       "3782     -0.575242       0       0       1       0       0  \n",
       "7169     -2.794543       1       0       0       0       0  \n",
       "6257     -0.575242       1       0       0       0       0  \n",
       "4127      1.150882       0       0       0       1       0  \n",
       "3273     -0.328653       0       0       0       0       1  \n",
       "...            ...     ...     ...     ...     ...     ...  \n",
       "362      -0.328653       0       0       1       0       0  \n",
       "2481     -0.821831       0       0       0       1       0  \n",
       "4047      0.657704       0       0       0       0       1  \n",
       "6432     -0.575242       0       0       0       0       1  \n",
       "2008     -0.821831       0       0       0       0       1  \n",
       "\n",
       "[5566 rows x 12 columns]"
      ]
     },
     "execution_count": 37,
     "metadata": {},
     "output_type": "execute_result"
    }
   ],
   "source": [
    "x_train"
   ]
  },
  {
   "cell_type": "code",
   "execution_count": 38,
   "id": "3eb1714f",
   "metadata": {},
   "outputs": [
    {
     "data": {
      "text/html": [
       "<div>\n",
       "<style scoped>\n",
       "    .dataframe tbody tr th:only-of-type {\n",
       "        vertical-align: middle;\n",
       "    }\n",
       "\n",
       "    .dataframe tbody tr th {\n",
       "        vertical-align: top;\n",
       "    }\n",
       "\n",
       "    .dataframe thead th {\n",
       "        text-align: right;\n",
       "    }\n",
       "</style>\n",
       "<table border=\"1\" class=\"dataframe\">\n",
       "  <thead>\n",
       "    <tr style=\"text-align: right;\">\n",
       "      <th></th>\n",
       "      <th>Product_ID</th>\n",
       "      <th>Source</th>\n",
       "      <th>Sales_Agent</th>\n",
       "      <th>Location</th>\n",
       "      <th>Created_day</th>\n",
       "      <th>Created_month</th>\n",
       "      <th>Created_hour</th>\n",
       "      <th>Mode-1</th>\n",
       "      <th>Mode-2</th>\n",
       "      <th>Mode-3</th>\n",
       "      <th>Mode-4</th>\n",
       "      <th>Mode-5</th>\n",
       "    </tr>\n",
       "  </thead>\n",
       "  <tbody>\n",
       "    <tr>\n",
       "      <th>5798</th>\n",
       "      <td>18</td>\n",
       "      <td>2</td>\n",
       "      <td>6</td>\n",
       "      <td>10</td>\n",
       "      <td>-1.229434</td>\n",
       "      <td>0.019098</td>\n",
       "      <td>-1.068420</td>\n",
       "      <td>0</td>\n",
       "      <td>0</td>\n",
       "      <td>0</td>\n",
       "      <td>0</td>\n",
       "      <td>1</td>\n",
       "    </tr>\n",
       "    <tr>\n",
       "      <th>4240</th>\n",
       "      <td>14</td>\n",
       "      <td>14</td>\n",
       "      <td>6</td>\n",
       "      <td>10</td>\n",
       "      <td>-0.144376</td>\n",
       "      <td>0.019098</td>\n",
       "      <td>-0.575242</td>\n",
       "      <td>0</td>\n",
       "      <td>0</td>\n",
       "      <td>0</td>\n",
       "      <td>0</td>\n",
       "      <td>1</td>\n",
       "    </tr>\n",
       "    <tr>\n",
       "      <th>5836</th>\n",
       "      <td>18</td>\n",
       "      <td>14</td>\n",
       "      <td>6</td>\n",
       "      <td>6</td>\n",
       "      <td>-1.229434</td>\n",
       "      <td>-0.361947</td>\n",
       "      <td>-0.082063</td>\n",
       "      <td>1</td>\n",
       "      <td>0</td>\n",
       "      <td>0</td>\n",
       "      <td>0</td>\n",
       "      <td>0</td>\n",
       "    </tr>\n",
       "    <tr>\n",
       "      <th>7112</th>\n",
       "      <td>1</td>\n",
       "      <td>24</td>\n",
       "      <td>5</td>\n",
       "      <td>2</td>\n",
       "      <td>-1.349996</td>\n",
       "      <td>-0.742992</td>\n",
       "      <td>-0.821831</td>\n",
       "      <td>1</td>\n",
       "      <td>0</td>\n",
       "      <td>0</td>\n",
       "      <td>0</td>\n",
       "      <td>0</td>\n",
       "    </tr>\n",
       "    <tr>\n",
       "      <th>5998</th>\n",
       "      <td>15</td>\n",
       "      <td>2</td>\n",
       "      <td>3</td>\n",
       "      <td>10</td>\n",
       "      <td>-1.229434</td>\n",
       "      <td>-1.886127</td>\n",
       "      <td>-1.068420</td>\n",
       "      <td>0</td>\n",
       "      <td>0</td>\n",
       "      <td>0</td>\n",
       "      <td>0</td>\n",
       "      <td>1</td>\n",
       "    </tr>\n",
       "    <tr>\n",
       "      <th>...</th>\n",
       "      <td>...</td>\n",
       "      <td>...</td>\n",
       "      <td>...</td>\n",
       "      <td>...</td>\n",
       "      <td>...</td>\n",
       "      <td>...</td>\n",
       "      <td>...</td>\n",
       "      <td>...</td>\n",
       "      <td>...</td>\n",
       "      <td>...</td>\n",
       "      <td>...</td>\n",
       "      <td>...</td>\n",
       "    </tr>\n",
       "    <tr>\n",
       "      <th>1159</th>\n",
       "      <td>15</td>\n",
       "      <td>2</td>\n",
       "      <td>11</td>\n",
       "      <td>10</td>\n",
       "      <td>-0.747186</td>\n",
       "      <td>0.400143</td>\n",
       "      <td>-0.821831</td>\n",
       "      <td>0</td>\n",
       "      <td>0</td>\n",
       "      <td>0</td>\n",
       "      <td>0</td>\n",
       "      <td>1</td>\n",
       "    </tr>\n",
       "    <tr>\n",
       "      <th>7106</th>\n",
       "      <td>15</td>\n",
       "      <td>2</td>\n",
       "      <td>6</td>\n",
       "      <td>10</td>\n",
       "      <td>-1.349996</td>\n",
       "      <td>-0.742992</td>\n",
       "      <td>-0.575242</td>\n",
       "      <td>0</td>\n",
       "      <td>0</td>\n",
       "      <td>0</td>\n",
       "      <td>0</td>\n",
       "      <td>1</td>\n",
       "    </tr>\n",
       "    <tr>\n",
       "      <th>3010</th>\n",
       "      <td>19</td>\n",
       "      <td>2</td>\n",
       "      <td>5</td>\n",
       "      <td>1</td>\n",
       "      <td>-0.023814</td>\n",
       "      <td>0.400143</td>\n",
       "      <td>0.164526</td>\n",
       "      <td>1</td>\n",
       "      <td>0</td>\n",
       "      <td>0</td>\n",
       "      <td>0</td>\n",
       "      <td>0</td>\n",
       "    </tr>\n",
       "    <tr>\n",
       "      <th>5033</th>\n",
       "      <td>9</td>\n",
       "      <td>24</td>\n",
       "      <td>7</td>\n",
       "      <td>10</td>\n",
       "      <td>0.940683</td>\n",
       "      <td>-0.361947</td>\n",
       "      <td>-3.287721</td>\n",
       "      <td>0</td>\n",
       "      <td>0</td>\n",
       "      <td>0</td>\n",
       "      <td>0</td>\n",
       "      <td>1</td>\n",
       "    </tr>\n",
       "    <tr>\n",
       "      <th>4521</th>\n",
       "      <td>15</td>\n",
       "      <td>2</td>\n",
       "      <td>2</td>\n",
       "      <td>10</td>\n",
       "      <td>-1.108872</td>\n",
       "      <td>0.019098</td>\n",
       "      <td>-1.068420</td>\n",
       "      <td>0</td>\n",
       "      <td>0</td>\n",
       "      <td>0</td>\n",
       "      <td>0</td>\n",
       "      <td>1</td>\n",
       "    </tr>\n",
       "  </tbody>\n",
       "</table>\n",
       "<p>1856 rows × 12 columns</p>\n",
       "</div>"
      ],
      "text/plain": [
       "      Product_ID  Source  Sales_Agent  Location  Created_day  Created_month  \\\n",
       "5798          18       2            6        10    -1.229434       0.019098   \n",
       "4240          14      14            6        10    -0.144376       0.019098   \n",
       "5836          18      14            6         6    -1.229434      -0.361947   \n",
       "7112           1      24            5         2    -1.349996      -0.742992   \n",
       "5998          15       2            3        10    -1.229434      -1.886127   \n",
       "...          ...     ...          ...       ...          ...            ...   \n",
       "1159          15       2           11        10    -0.747186       0.400143   \n",
       "7106          15       2            6        10    -1.349996      -0.742992   \n",
       "3010          19       2            5         1    -0.023814       0.400143   \n",
       "5033           9      24            7        10     0.940683      -0.361947   \n",
       "4521          15       2            2        10    -1.108872       0.019098   \n",
       "\n",
       "      Created_hour  Mode-1  Mode-2  Mode-3  Mode-4  Mode-5  \n",
       "5798     -1.068420       0       0       0       0       1  \n",
       "4240     -0.575242       0       0       0       0       1  \n",
       "5836     -0.082063       1       0       0       0       0  \n",
       "7112     -0.821831       1       0       0       0       0  \n",
       "5998     -1.068420       0       0       0       0       1  \n",
       "...            ...     ...     ...     ...     ...     ...  \n",
       "1159     -0.821831       0       0       0       0       1  \n",
       "7106     -0.575242       0       0       0       0       1  \n",
       "3010      0.164526       1       0       0       0       0  \n",
       "5033     -3.287721       0       0       0       0       1  \n",
       "4521     -1.068420       0       0       0       0       1  \n",
       "\n",
       "[1856 rows x 12 columns]"
      ]
     },
     "execution_count": 38,
     "metadata": {},
     "output_type": "execute_result"
    }
   ],
   "source": [
    "x_test"
   ]
  },
  {
   "cell_type": "code",
   "execution_count": 39,
   "id": "0c66ffa1",
   "metadata": {},
   "outputs": [
    {
     "data": {
      "text/plain": [
       "3782    1\n",
       "7169    1\n",
       "6257    1\n",
       "4127    0\n",
       "3273    1\n",
       "       ..\n",
       "362     1\n",
       "2481    0\n",
       "4047    1\n",
       "6432    1\n",
       "2008    1\n",
       "Name: Status, Length: 5566, dtype: int64"
      ]
     },
     "execution_count": 39,
     "metadata": {},
     "output_type": "execute_result"
    }
   ],
   "source": [
    "y_train"
   ]
  },
  {
   "cell_type": "code",
   "execution_count": 40,
   "id": "a7deba9f",
   "metadata": {},
   "outputs": [
    {
     "data": {
      "text/plain": [
       "5798    1\n",
       "4240    1\n",
       "5836    0\n",
       "7112    1\n",
       "5998    1\n",
       "       ..\n",
       "1159    1\n",
       "7106    1\n",
       "3010    1\n",
       "5033    1\n",
       "4521    1\n",
       "Name: Status, Length: 1856, dtype: int64"
      ]
     },
     "execution_count": 40,
     "metadata": {},
     "output_type": "execute_result"
    }
   ],
   "source": [
    "y_test"
   ]
  },
  {
   "cell_type": "markdown",
   "id": "3cc92dbe",
   "metadata": {},
   "source": [
    "### Balancing the Data - "
   ]
  },
  {
   "cell_type": "code",
   "execution_count": 41,
   "id": "815f6a29",
   "metadata": {},
   "outputs": [
    {
     "data": {
      "text/plain": [
       "1    5219\n",
       "0    2203\n",
       "Name: Status, dtype: int64"
      ]
     },
     "execution_count": 41,
     "metadata": {},
     "output_type": "execute_result"
    }
   ],
   "source": [
    "# Let's see oue target variable is balanced or not if it's not balanced. So, we have to apply SMOTE for balanced the data.\n",
    "y.value_counts()\n",
    "# here we can see our target variable is not balanced."
   ]
  },
  {
   "cell_type": "code",
   "execution_count": 42,
   "id": "21254802",
   "metadata": {},
   "outputs": [],
   "source": [
    "from imblearn.over_sampling import SMOTE  # assign SMOTE for handling unbalanced data\n",
    "sm = SMOTE()"
   ]
  },
  {
   "cell_type": "code",
   "execution_count": 43,
   "id": "bd8aec91",
   "metadata": {},
   "outputs": [
    {
     "name": "stdout",
     "output_type": "stream",
     "text": [
      "Counter({1: 3930, 0: 1636})\n",
      "Counter({1: 3930, 0: 3930})\n"
     ]
    }
   ],
   "source": [
    "x_sm,y_sm = sm.fit_resample(x_train,y_train)  # balancing data \n",
    "\n",
    "from collections import Counter  # checking data balanced or not\n",
    "print(Counter(y_train))\n",
    "print(Counter(y_sm))"
   ]
  },
  {
   "cell_type": "markdown",
   "id": "487093d4",
   "metadata": {},
   "source": [
    "# Model Selection -"
   ]
  },
  {
   "cell_type": "markdown",
   "id": "527de060",
   "metadata": {},
   "source": [
    "### Logistic Regression -"
   ]
  },
  {
   "cell_type": "code",
   "execution_count": 44,
   "id": "d7c3c77a",
   "metadata": {},
   "outputs": [
    {
     "data": {
      "text/plain": [
       "LogisticRegression()"
      ]
     },
     "execution_count": 44,
     "metadata": {},
     "output_type": "execute_result"
    }
   ],
   "source": [
    "from sklearn.linear_model import LogisticRegression\n",
    "Lr = LogisticRegression()\n",
    "Lr.fit(x_sm,y_sm)"
   ]
  },
  {
   "cell_type": "markdown",
   "id": "947378cc",
   "metadata": {},
   "source": [
    "# Model Evalution -"
   ]
  },
  {
   "cell_type": "code",
   "execution_count": 45,
   "id": "7db33d69",
   "metadata": {},
   "outputs": [],
   "source": [
    "from sklearn.metrics import accuracy_score,recall_score,precision_score,f1_score,confusion_matrix"
   ]
  },
  {
   "cell_type": "code",
   "execution_count": 46,
   "id": "5cf77e21",
   "metadata": {},
   "outputs": [
    {
     "name": "stdout",
     "output_type": "stream",
     "text": [
      "__accuracy score__ 0.6616379310344828\n",
      "__recall_score__ 0.6616379310344828\n",
      "__precision_score__ 0.654397234903263\n"
     ]
    }
   ],
   "source": [
    "logi = Lr.predict(x_test)\n",
    "print(\"__accuracy score__\",accuracy_score(logi,y_test))\n",
    "acc = accuracy_score(logi,y_test)\n",
    "print(\"__recall_score__\",recall_score(logi,y_test,average=\"weighted\"))\n",
    "print(\"__precision_score__\",precision_score(logi,y_test,average=\"weighted\"))"
   ]
  },
  {
   "cell_type": "code",
   "execution_count": 47,
   "id": "379321e1",
   "metadata": {},
   "outputs": [
    {
     "name": "stdout",
     "output_type": "stream",
     "text": [
      "[[347 408]\n",
      " [220 881]]\n"
     ]
    }
   ],
   "source": [
    "print(confusion_matrix(logi,y_test))"
   ]
  },
  {
   "cell_type": "markdown",
   "id": "58a47850",
   "metadata": {},
   "source": [
    "### DecisionTreeClassifier -"
   ]
  },
  {
   "cell_type": "code",
   "execution_count": 48,
   "id": "7e6d06a5",
   "metadata": {},
   "outputs": [
    {
     "data": {
      "text/plain": [
       "DecisionTreeClassifier()"
      ]
     },
     "execution_count": 48,
     "metadata": {},
     "output_type": "execute_result"
    }
   ],
   "source": [
    "from sklearn.tree import DecisionTreeClassifier\n",
    "Dt = DecisionTreeClassifier()\n",
    "Dt.fit(x_sm,y_sm)"
   ]
  },
  {
   "cell_type": "code",
   "execution_count": 49,
   "id": "c8c038ae",
   "metadata": {},
   "outputs": [
    {
     "name": "stdout",
     "output_type": "stream",
     "text": [
      "__accuracy score__ 0.6670258620689655\n",
      "__recall_score__ 0.6670258620689655\n",
      "__precision_score__ 0.6619916328132066\n"
     ]
    }
   ],
   "source": [
    "deci = Dt.predict(x_test)\n",
    "print(\"__accuracy score__\",accuracy_score(deci,y_test))\n",
    "acc_1 = accuracy_score(deci,y_test)\n",
    "print(\"__recall_score__\",recall_score(deci,y_test,average=\"weighted\"))\n",
    "print(\"__precision_score__\",precision_score(deci,y_test,average=\"weighted\"))"
   ]
  },
  {
   "cell_type": "code",
   "execution_count": 50,
   "id": "e659eaeb",
   "metadata": {},
   "outputs": [
    {
     "name": "stdout",
     "output_type": "stream",
     "text": [
      "[[276 327]\n",
      " [291 962]]\n"
     ]
    }
   ],
   "source": [
    "print(confusion_matrix(deci,y_test))"
   ]
  },
  {
   "cell_type": "markdown",
   "id": "a9023906",
   "metadata": {},
   "source": [
    "### DecisionTreeClassifier with Hyperperameter Tunning"
   ]
  },
  {
   "cell_type": "code",
   "execution_count": 51,
   "id": "d9c1b6f4",
   "metadata": {},
   "outputs": [],
   "source": [
    "from sklearn.model_selection import GridSearchCV  #importing GridSearchCV"
   ]
  },
  {
   "cell_type": "code",
   "execution_count": 52,
   "id": "213f1d36",
   "metadata": {},
   "outputs": [
    {
     "name": "stdout",
     "output_type": "stream",
     "text": [
      "Fitting 5 folds for each of 21660 candidates, totalling 108300 fits\n",
      "Best paramters: {'max_depth': 4, 'max_leaf_nodes': None, 'min_samples_leaf': 1, 'min_samples_split': 2, 'splitter': 'best'})\n"
     ]
    }
   ],
   "source": [
    "#creating dictionary--> key value pair of hyperparameters having key as parameter and values as its values\n",
    "params = {\n",
    "    \"splitter\":(\"best\", \"random\"), # searches the features for a split\n",
    "    \"max_depth\":(list(range(1, 20))), #depth of tree range from 1 to 19\n",
    "    \"min_samples_split\":[2, 3, 4],    #the minimum number of samples required to split internal node\n",
    "    \"min_samples_leaf\":list(range(1, 20)),#minimum number of samples required to be at a leaf node,we are passing list which is range from 1 to 19 \n",
    "    \"max_leaf_nodes\":[None,10,20,30,40,50,60,70,80,90]}\n",
    "\n",
    "tree_clf = DecisionTreeClassifier(random_state=3)#object creation for decision tree with random state 3\n",
    "tree_cv = GridSearchCV(tree_clf, params, scoring=\"accuracy\", n_jobs=-1, verbose=1)\n",
    "tree_cv.fit(x_train,y_train)#training data on gridsearch cv\n",
    "best_params = tree_cv.best_params_#it will give you best parameters \n",
    "print(f\"Best paramters: {best_params})\")#printing  best parameters"
   ]
  },
  {
   "cell_type": "code",
   "execution_count": 53,
   "id": "1ef47149",
   "metadata": {},
   "outputs": [
    {
     "data": {
      "text/plain": [
       "{'max_depth': 4,\n",
       " 'max_leaf_nodes': None,\n",
       " 'min_samples_leaf': 1,\n",
       " 'min_samples_split': 2,\n",
       " 'splitter': 'best'}"
      ]
     },
     "execution_count": 53,
     "metadata": {},
     "output_type": "execute_result"
    }
   ],
   "source": [
    "Bestparamters: ({'criterion': 'entropy', 'max_depth': 12, 'min_samples_leaf': 1, 'min_samples_split': 3, 'splitter': 'random',\"max_leaf_nodes\":None})\n",
    "tree_cv.best_params_#getting best parameters from cv   "
   ]
  },
  {
   "cell_type": "code",
   "execution_count": 54,
   "id": "3f07729d",
   "metadata": {},
   "outputs": [
    {
     "data": {
      "text/plain": [
       "DecisionTreeClassifier(max_depth=4, random_state=33)"
      ]
     },
     "execution_count": 54,
     "metadata": {},
     "output_type": "execute_result"
    }
   ],
   "source": [
    "dt1=DecisionTreeClassifier(max_depth=4,max_leaf_nodes= None,min_samples_leaf= 1,min_samples_split=2,splitter='best',random_state=33)#passing best parameter to decision tree\n",
    "dt1.fit(x_train,y_train)#traing model with best parameter"
   ]
  },
  {
   "cell_type": "code",
   "execution_count": 55,
   "id": "4dbf5372",
   "metadata": {},
   "outputs": [
    {
     "data": {
      "text/plain": [
       "0.7408405172413793"
      ]
     },
     "execution_count": 55,
     "metadata": {},
     "output_type": "execute_result"
    }
   ],
   "source": [
    "dt1.fit(x_train,y_train)#training model with best parameter\n",
    "y_hat1=dt1.predict(x_test)#predicting\n",
    "par = accuracy_score(y_test,y_hat1)\n",
    "par"
   ]
  },
  {
   "cell_type": "markdown",
   "id": "51795889",
   "metadata": {},
   "source": [
    "### RandomForestClassifier -"
   ]
  },
  {
   "cell_type": "code",
   "execution_count": 56,
   "id": "468b359e",
   "metadata": {},
   "outputs": [
    {
     "data": {
      "text/plain": [
       "RandomForestClassifier()"
      ]
     },
     "execution_count": 56,
     "metadata": {},
     "output_type": "execute_result"
    }
   ],
   "source": [
    "from sklearn.ensemble import RandomForestClassifier\n",
    "Ran = RandomForestClassifier()\n",
    "Ran.fit(x_sm,y_sm)"
   ]
  },
  {
   "cell_type": "code",
   "execution_count": 57,
   "id": "98fa53d9",
   "metadata": {},
   "outputs": [
    {
     "name": "stdout",
     "output_type": "stream",
     "text": [
      "__accuracy score__ 0.728448275862069\n",
      "__recall_score__ 0.7944486121530383\n",
      "__precision_score__ 0.821567106283941\n"
     ]
    }
   ],
   "source": [
    "Rand = Ran.predict(x_test)\n",
    "print(\"__accuracy score__\",accuracy_score(y_test,Rand))\n",
    "acc_2 = accuracy_score(y_test,Rand)\n",
    "print(\"__recall_score__\",recall_score(Rand,y_test))\n",
    "print(\"__precision_score__\",precision_score(Rand,y_test))"
   ]
  },
  {
   "cell_type": "markdown",
   "id": "ae7be48f",
   "metadata": {},
   "source": [
    "### RandomForestClassifier with hyperparameter Tunning"
   ]
  },
  {
   "cell_type": "code",
   "execution_count": 58,
   "id": "84aa68ac",
   "metadata": {},
   "outputs": [
    {
     "name": "stdout",
     "output_type": "stream",
     "text": [
      "Fitting 5 folds for each of 100 candidates, totalling 500 fits\n",
      "Best paramters: {'n_estimators': 400, 'min_samples_split': 2, 'min_samples_leaf': 4, 'max_features': 'sqrt', 'max_depth': 10, 'bootstrap': True})\n"
     ]
    }
   ],
   "source": [
    "from sklearn.model_selection import RandomizedSearchCV\n",
    "\n",
    "\n",
    "n_estimators = [int(x) for x in np.linspace(start=200, stop=2000, num=10)]#List Comprehension-using for loop in list\n",
    "max_features = ['auto', 'sqrt']#maximum number of features allowed to try in individual tree\n",
    "max_depth = [int(x) for x in np.linspace(10, 110, num=11)]#List Comprehension-using for loop in list\n",
    "max_depth.append(None)\n",
    "min_samples_split = [2, 5, 10]#minimum number of samples required to split an internal node\n",
    "min_samples_leaf = [1, 2, 4]#minimum number of samples required to be at a leaf node.\n",
    "bootstrap = [True, False]#sampling \n",
    "\n",
    "\n",
    "#dictionary for hyperparameters\n",
    "random_grid = {'n_estimators': n_estimators, 'max_features': max_features,\n",
    "               'max_depth': max_depth, 'min_samples_split': min_samples_split,\n",
    "               'min_samples_leaf': min_samples_leaf, 'bootstrap': bootstrap}\n",
    "\n",
    "\n",
    "rf_clf1 = RandomForestClassifier(random_state=42)#model\n",
    "\n",
    "rf_cv = RandomizedSearchCV(estimator=rf_clf1, scoring='accuracy',param_distributions=random_grid, n_iter=100, \n",
    "                               verbose=2, random_state=42, n_jobs=-1)\n",
    "\n",
    "\n",
    "rf_cv.fit(x_train, y_train)##training data on randomsearch cv\n",
    "rf_best_params = rf_cv.best_params_##it will give you best parameters \n",
    "print(f\"Best paramters: {rf_best_params})\")##printing  best parameters\n",
    " "
   ]
  },
  {
   "cell_type": "code",
   "execution_count": 59,
   "id": "1ee74d61",
   "metadata": {},
   "outputs": [
    {
     "data": {
      "text/plain": [
       "{'n_estimators': 400,\n",
       " 'min_samples_split': 2,\n",
       " 'min_samples_leaf': 4,\n",
       " 'max_features': 'sqrt',\n",
       " 'max_depth': 10,\n",
       " 'bootstrap': True}"
      ]
     },
     "execution_count": 59,
     "metadata": {},
     "output_type": "execute_result"
    }
   ],
   "source": [
    "rf_cv.best_params_ #printing best parameters"
   ]
  },
  {
   "cell_type": "code",
   "execution_count": 60,
   "id": "ddc80336",
   "metadata": {},
   "outputs": [
    {
     "data": {
      "text/plain": [
       "0.753682527853457"
      ]
     },
     "execution_count": 60,
     "metadata": {},
     "output_type": "execute_result"
    }
   ],
   "source": [
    "rf_cv.best_score_  #printing best score"
   ]
  },
  {
   "cell_type": "code",
   "execution_count": 61,
   "id": "6f6a97f3",
   "metadata": {},
   "outputs": [],
   "source": [
    "#passing best parameters for RandomForestRegressor\n",
    "rf1 = RandomForestClassifier(n_estimators=400,min_samples_leaf=2,min_samples_split=4,max_features=\"sqrt\",max_depth=10,bootstrap=True,random_state=33)"
   ]
  },
  {
   "cell_type": "code",
   "execution_count": 62,
   "id": "7cc430ea",
   "metadata": {},
   "outputs": [
    {
     "name": "stdout",
     "output_type": "stream",
     "text": [
      "0.7462284482758621\n"
     ]
    }
   ],
   "source": [
    "rf1.fit(x_train,y_train) #train model with best parameters\n",
    "y_rf_random = rf1.predict(x_test)   #predicting \n",
    "par1 = accuracy_score(y_test,y_rf_random)   #checking r2 score\n",
    "print(par1)"
   ]
  },
  {
   "cell_type": "markdown",
   "id": "e5681812",
   "metadata": {},
   "source": [
    "### XGBoost Classifier -"
   ]
  },
  {
   "cell_type": "code",
   "execution_count": 63,
   "id": "1048c8ac",
   "metadata": {},
   "outputs": [
    {
     "data": {
      "text/plain": [
       "XGBClassifier(base_score=None, booster=None, callbacks=None,\n",
       "              colsample_bylevel=None, colsample_bynode=None,\n",
       "              colsample_bytree=None, early_stopping_rounds=None,\n",
       "              enable_categorical=False, eval_metric=None, feature_types=None,\n",
       "              gamma=None, gpu_id=None, grow_policy=None, importance_type=None,\n",
       "              interaction_constraints=None, learning_rate=None, max_bin=None,\n",
       "              max_cat_threshold=None, max_cat_to_onehot=None,\n",
       "              max_delta_step=None, max_depth=None, max_leaves=None,\n",
       "              min_child_weight=None, missing=nan, monotone_constraints=None,\n",
       "              n_estimators=500, n_jobs=None, num_parallel_tree=None,\n",
       "              predictor=None, random_state=None, ...)"
      ]
     },
     "execution_count": 63,
     "metadata": {},
     "output_type": "execute_result"
    }
   ],
   "source": [
    "import xgboost as xg    #importing xgboost with alias name xg\n",
    "from xgboost import XGBClassifier   #calling XGBRegressor\n",
    "xgb_r = xg.XGBClassifier(    #assign in variable\n",
    "                  n_estimators = 500, seed = 123)\n",
    "xgb_r.fit(x_sm, y_sm)# Fitting the model"
   ]
  },
  {
   "cell_type": "code",
   "execution_count": 64,
   "id": "e15d05f7",
   "metadata": {},
   "outputs": [
    {
     "name": "stdout",
     "output_type": "stream",
     "text": [
      "__accuracy score__ 0.7219827586206896\n",
      "__recall_score__ 0.7877885331347729\n",
      "__precision_score__ 0.8207913110938713\n"
     ]
    }
   ],
   "source": [
    "XGB = xgb_r.predict(x_test)\n",
    "print(\"__accuracy score__\",accuracy_score(y_test,XGB))\n",
    "acc_3 = accuracy_score(y_test,XGB)\n",
    "print(\"__recall_score__\",recall_score(XGB,y_test))\n",
    "print(\"__precision_score__\",precision_score(XGB,y_test))"
   ]
  },
  {
   "cell_type": "markdown",
   "id": "75a36039",
   "metadata": {},
   "source": [
    "### XGBClassifier with hyperparameter tunning"
   ]
  },
  {
   "cell_type": "code",
   "execution_count": 65,
   "id": "d28d4ac2",
   "metadata": {},
   "outputs": [
    {
     "name": "stdout",
     "output_type": "stream",
     "text": [
      "Best paramters: {'reg_lambda': 102.4, 'reg_alpha': 3.2, 'n_estimators': 80, 'max_depth': 6, 'learning_rate': 0.15, 'gamma': 0.8})\n"
     ]
    }
   ],
   "source": [
    "#creating dictionary--> key value pair of hyperparameters having key as parameter and values as its values\n",
    "param_grid = {'gamma': [0,0.1,0.2,0.4,0.8,1.6,3.2,6.4,12.8,25.6,51.2,102.4, 200],\n",
    "              'learning_rate': [0.01, 0.03, 0.06, 0.1, 0.15, 0.2, 0.25, 0.300000012, 0.4, 0.5, 0.6, 0.7],\n",
    "              'max_depth': [5,6,7,8,9,10,11,12,13,14],#max depth of XGBRegressor\n",
    "              'n_estimators': [50,65,80,100,115,130,150],#assign n_estimator number of samples required to split \n",
    "              'reg_alpha': [0,0.1,0.2,0.4,0.8,1.6,3.2,6.4,12.8,25.6,51.2,102.4,200],#assign reg_alpha number of samples required to split \n",
    "              'reg_lambda': [0,0.1,0.2,0.4,0.8,1.6,3.2,6.4,12.8,25.6,51.2,102.4,200]}#assign reg_lambda number of samples required to split\n",
    "\n",
    "XGB = xg.XGBClassifier(random_state=42, verbosity=0, silent=0)#assign in variable\n",
    "rcv= RandomizedSearchCV(estimator=XGB, scoring='accuracy',param_distributions=param_grid, n_iter=100, \n",
    "                               n_jobs=-1)#assign some parameters\n",
    "\n",
    "rcv.fit(x_train, y_train)#fitting the model\n",
    "\n",
    "cv_best_params = rcv.best_params_ #printing best parameters\n",
    "print(f\"Best paramters: {cv_best_params})\")"
   ]
  },
  {
   "cell_type": "code",
   "execution_count": 66,
   "id": "40561f7b",
   "metadata": {},
   "outputs": [],
   "source": [
    "XGB2 = xg.XGBClassifier(reg_lambda=0.4 , reg_alpha= 0.1, n_estimators=130, max_depth=6, learning_rate=0.25, gamma=3.2)\n",
    "#assign the model with best parameters"
   ]
  },
  {
   "cell_type": "code",
   "execution_count": 67,
   "id": "f78a027f",
   "metadata": {},
   "outputs": [
    {
     "data": {
      "text/plain": [
       "0.7667025862068966"
      ]
     },
     "execution_count": 67,
     "metadata": {},
     "output_type": "execute_result"
    }
   ],
   "source": [
    "XGB2.fit(x_train, y_train)#fiting thr model with best parameters\n",
    "y_predictxgb=XGB2.predict(x_test)#predict x_\n",
    "r2 = accuracy_score(y_test,y_predictxgb)\n",
    "r2"
   ]
  },
  {
   "cell_type": "markdown",
   "id": "cd761c58",
   "metadata": {},
   "source": [
    "### ANN Classifier -"
   ]
  },
  {
   "cell_type": "code",
   "execution_count": 195,
   "id": "f8e1ac51",
   "metadata": {},
   "outputs": [],
   "source": [
    "from tensorflow import keras\n",
    "from tensorflow.keras import layers\n",
    "from keras.models import Sequential\n",
    "from keras.layers import Dense,Dropout\n",
    "classifier = Sequential()\n",
    "\n",
    "classifier.add(Dense(units=50,activation=\"relu\"))\n",
    "classifier.add(Dense(units=35,activation=\"relu\"))\n",
    "classifier.add(Dense(units=10,activation=\"relu\"))\n",
    "classifier.add(Dropout(0.5))\n",
    "classifier.add(Dense(1,activation=\"sigmoid\"))"
   ]
  },
  {
   "cell_type": "code",
   "execution_count": 196,
   "id": "9151b88a",
   "metadata": {},
   "outputs": [],
   "source": [
    "# Compiling the model\n",
    "classifier.compile(optimizer = 'adam', loss = 'binary_crossentropy', metrics = [\"accuracy\"])\n"
   ]
  },
  {
   "cell_type": "code",
   "execution_count": 198,
   "id": "16a376b2",
   "metadata": {},
   "outputs": [],
   "source": [
    "import tensorflow as tf\n",
    "early_stopping = tf.keras.callbacks.EarlyStopping(\n",
    "    monitor=\"accuracy\",\n",
    "    min_delta=0.0001,\n",
    "    patience=30,\n",
    "    verbose=3,\n",
    "    mode=\"auto\",\n",
    "    baseline=None,\n",
    "    restore_best_weights=False,\n",
    "    \n",
    ")"
   ]
  },
  {
   "cell_type": "code",
   "execution_count": 199,
   "id": "6dbf8495",
   "metadata": {
    "scrolled": false
   },
   "outputs": [
    {
     "name": "stdout",
     "output_type": "stream",
     "text": [
      "Epoch 1/100\n",
      "708/708 [==============================] - 1s 1ms/step - loss: 0.6905 - accuracy: 0.5765 - val_loss: 0.7534 - val_accuracy: 0.0522\n",
      "Epoch 2/100\n",
      "708/708 [==============================] - 1s 1ms/step - loss: 0.6512 - accuracy: 0.5858 - val_loss: 0.7944 - val_accuracy: 0.2036\n",
      "Epoch 3/100\n",
      "708/708 [==============================] - 1s 1ms/step - loss: 0.6443 - accuracy: 0.5995 - val_loss: 0.8121 - val_accuracy: 0.2188\n",
      "Epoch 4/100\n",
      "708/708 [==============================] - 1s 1ms/step - loss: 0.6401 - accuracy: 0.5994 - val_loss: 0.6353 - val_accuracy: 0.6132\n",
      "Epoch 5/100\n",
      "708/708 [==============================] - 1s 1ms/step - loss: 0.6304 - accuracy: 0.6207 - val_loss: 0.5880 - val_accuracy: 0.6234\n",
      "Epoch 6/100\n",
      "708/708 [==============================] - 1s 1ms/step - loss: 0.6279 - accuracy: 0.6269 - val_loss: 0.8315 - val_accuracy: 0.3155\n",
      "Epoch 7/100\n",
      "708/708 [==============================] - 1s 1ms/step - loss: 0.6165 - accuracy: 0.6442 - val_loss: 0.6401 - val_accuracy: 0.5356\n",
      "Epoch 8/100\n",
      "708/708 [==============================] - 1s 1ms/step - loss: 0.6159 - accuracy: 0.6453 - val_loss: 0.6715 - val_accuracy: 0.5649\n",
      "Epoch 9/100\n",
      "708/708 [==============================] - 1s 1ms/step - loss: 0.6125 - accuracy: 0.6573 - val_loss: 0.8465 - val_accuracy: 0.2723\n",
      "Epoch 10/100\n",
      "708/708 [==============================] - 1s 1ms/step - loss: 0.6081 - accuracy: 0.6614 - val_loss: 0.7014 - val_accuracy: 0.4949\n",
      "Epoch 11/100\n",
      "708/708 [==============================] - 1s 1ms/step - loss: 0.6000 - accuracy: 0.6592 - val_loss: 0.7022 - val_accuracy: 0.5394\n",
      "Epoch 12/100\n",
      "708/708 [==============================] - 1s 1ms/step - loss: 0.5967 - accuracy: 0.6678 - val_loss: 0.6083 - val_accuracy: 0.6069\n",
      "Epoch 13/100\n",
      "708/708 [==============================] - 1s 1ms/step - loss: 0.5882 - accuracy: 0.6719 - val_loss: 0.6258 - val_accuracy: 0.5598\n",
      "Epoch 14/100\n",
      "708/708 [==============================] - 1s 1ms/step - loss: 0.5920 - accuracy: 0.6791 - val_loss: 0.5725 - val_accuracy: 0.6399\n",
      "Epoch 15/100\n",
      "708/708 [==============================] - 1s 1ms/step - loss: 0.5822 - accuracy: 0.6809 - val_loss: 0.5241 - val_accuracy: 0.6756\n",
      "Epoch 16/100\n",
      "708/708 [==============================] - 1s 1ms/step - loss: 0.5715 - accuracy: 0.6913 - val_loss: 0.5405 - val_accuracy: 0.6399\n",
      "Epoch 17/100\n",
      "708/708 [==============================] - 1s 1ms/step - loss: 0.5733 - accuracy: 0.6893 - val_loss: 0.4688 - val_accuracy: 0.6883\n",
      "Epoch 18/100\n",
      "708/708 [==============================] - 1s 1ms/step - loss: 0.5737 - accuracy: 0.6886 - val_loss: 0.7530 - val_accuracy: 0.4364\n",
      "Epoch 19/100\n",
      "708/708 [==============================] - 1s 1ms/step - loss: 0.5639 - accuracy: 0.6896 - val_loss: 0.4728 - val_accuracy: 0.6539\n",
      "Epoch 20/100\n",
      "708/708 [==============================] - 1s 1ms/step - loss: 0.5667 - accuracy: 0.6850 - val_loss: 0.5058 - val_accuracy: 0.6298\n",
      "Epoch 21/100\n",
      "708/708 [==============================] - 1s 1ms/step - loss: 0.5644 - accuracy: 0.6801 - val_loss: 0.4724 - val_accuracy: 0.6959\n",
      "Epoch 22/100\n",
      "708/708 [==============================] - 1s 1ms/step - loss: 0.5599 - accuracy: 0.6889 - val_loss: 0.6064 - val_accuracy: 0.5153\n",
      "Epoch 23/100\n",
      "708/708 [==============================] - 1s 1ms/step - loss: 0.5560 - accuracy: 0.6949 - val_loss: 0.5330 - val_accuracy: 0.6158\n",
      "Epoch 24/100\n",
      "708/708 [==============================] - 1s 1ms/step - loss: 0.5568 - accuracy: 0.6883 - val_loss: 0.5230 - val_accuracy: 0.6107\n",
      "Epoch 25/100\n",
      "708/708 [==============================] - 1s 1ms/step - loss: 0.5527 - accuracy: 0.6880 - val_loss: 0.4873 - val_accuracy: 0.6463\n",
      "Epoch 26/100\n",
      "708/708 [==============================] - 1s 1ms/step - loss: 0.5477 - accuracy: 0.6973 - val_loss: 0.5231 - val_accuracy: 0.6120\n",
      "Epoch 27/100\n",
      "708/708 [==============================] - 1s 1ms/step - loss: 0.5547 - accuracy: 0.6955 - val_loss: 0.5586 - val_accuracy: 0.5967\n",
      "Epoch 28/100\n",
      "708/708 [==============================] - 1s 1ms/step - loss: 0.5427 - accuracy: 0.7040 - val_loss: 0.5237 - val_accuracy: 0.6616\n",
      "Epoch 29/100\n",
      "708/708 [==============================] - 1s 1ms/step - loss: 0.5443 - accuracy: 0.6995 - val_loss: 0.4774 - val_accuracy: 0.6527\n",
      "Epoch 30/100\n",
      "708/708 [==============================] - 1s 1ms/step - loss: 0.5400 - accuracy: 0.7054 - val_loss: 0.4007 - val_accuracy: 0.7494\n",
      "Epoch 31/100\n",
      "708/708 [==============================] - 1s 1ms/step - loss: 0.5366 - accuracy: 0.7058 - val_loss: 0.4338 - val_accuracy: 0.6781\n",
      "Epoch 32/100\n",
      "708/708 [==============================] - 1s 1ms/step - loss: 0.5402 - accuracy: 0.7057 - val_loss: 0.5310 - val_accuracy: 0.6209\n",
      "Epoch 33/100\n",
      "708/708 [==============================] - 1s 1ms/step - loss: 0.5363 - accuracy: 0.7031 - val_loss: 0.5180 - val_accuracy: 0.6158\n",
      "Epoch 34/100\n",
      "708/708 [==============================] - 1s 1ms/step - loss: 0.5333 - accuracy: 0.7096 - val_loss: 0.5557 - val_accuracy: 0.5649\n",
      "Epoch 35/100\n",
      "708/708 [==============================] - 1s 1ms/step - loss: 0.5352 - accuracy: 0.7111 - val_loss: 0.5104 - val_accuracy: 0.6565\n",
      "Epoch 36/100\n",
      "708/708 [==============================] - 1s 1ms/step - loss: 0.5322 - accuracy: 0.7105 - val_loss: 0.5046 - val_accuracy: 0.6552\n",
      "Epoch 37/100\n",
      "708/708 [==============================] - 1s 1ms/step - loss: 0.5266 - accuracy: 0.7185 - val_loss: 0.5548 - val_accuracy: 0.6272\n",
      "Epoch 38/100\n",
      "708/708 [==============================] - 1s 1ms/step - loss: 0.5248 - accuracy: 0.7153 - val_loss: 0.4874 - val_accuracy: 0.6374\n",
      "Epoch 39/100\n",
      "708/708 [==============================] - 1s 1ms/step - loss: 0.5260 - accuracy: 0.7115 - val_loss: 0.4671 - val_accuracy: 0.6590\n",
      "Epoch 40/100\n",
      "708/708 [==============================] - 1s 1ms/step - loss: 0.5209 - accuracy: 0.7150 - val_loss: 0.4239 - val_accuracy: 0.6870\n",
      "Epoch 41/100\n",
      "708/708 [==============================] - 1s 1ms/step - loss: 0.5254 - accuracy: 0.7157 - val_loss: 0.4203 - val_accuracy: 0.7226\n",
      "Epoch 42/100\n",
      "708/708 [==============================] - 1s 1ms/step - loss: 0.5233 - accuracy: 0.7169 - val_loss: 0.4099 - val_accuracy: 0.7214\n",
      "Epoch 43/100\n",
      "708/708 [==============================] - 1s 1ms/step - loss: 0.5175 - accuracy: 0.7153 - val_loss: 0.4734 - val_accuracy: 0.6756\n",
      "Epoch 44/100\n",
      "708/708 [==============================] - 1s 1ms/step - loss: 0.5136 - accuracy: 0.7209 - val_loss: 0.4398 - val_accuracy: 0.7226\n",
      "Epoch 45/100\n",
      "708/708 [==============================] - 1s 1ms/step - loss: 0.5199 - accuracy: 0.7173 - val_loss: 0.5413 - val_accuracy: 0.6069\n",
      "Epoch 46/100\n",
      "708/708 [==============================] - 1s 1ms/step - loss: 0.5159 - accuracy: 0.7136 - val_loss: 0.5031 - val_accuracy: 0.5992\n",
      "Epoch 47/100\n",
      "708/708 [==============================] - 1s 1ms/step - loss: 0.5179 - accuracy: 0.7201 - val_loss: 0.5904 - val_accuracy: 0.5267\n",
      "Epoch 48/100\n",
      "708/708 [==============================] - 1s 1ms/step - loss: 0.5136 - accuracy: 0.7219 - val_loss: 0.5370 - val_accuracy: 0.5967\n",
      "Epoch 49/100\n",
      "708/708 [==============================] - 1s 1ms/step - loss: 0.5100 - accuracy: 0.7256 - val_loss: 0.4400 - val_accuracy: 0.7239\n",
      "Epoch 50/100\n",
      "708/708 [==============================] - 1s 1ms/step - loss: 0.5119 - accuracy: 0.7207 - val_loss: 0.4450 - val_accuracy: 0.6870\n",
      "Epoch 51/100\n",
      "708/708 [==============================] - 1s 2ms/step - loss: 0.5100 - accuracy: 0.7280 - val_loss: 0.4059 - val_accuracy: 0.7112\n",
      "Epoch 52/100\n",
      "708/708 [==============================] - 1s 1ms/step - loss: 0.5050 - accuracy: 0.7259 - val_loss: 0.4081 - val_accuracy: 0.7137\n",
      "Epoch 53/100\n",
      "708/708 [==============================] - 1s 2ms/step - loss: 0.5087 - accuracy: 0.7276 - val_loss: 0.4375 - val_accuracy: 0.7087\n",
      "Epoch 54/100\n",
      "708/708 [==============================] - 1s 1ms/step - loss: 0.5054 - accuracy: 0.7245 - val_loss: 0.4348 - val_accuracy: 0.6705\n",
      "Epoch 55/100\n",
      "708/708 [==============================] - 1s 1ms/step - loss: 0.5038 - accuracy: 0.7324 - val_loss: 0.3963 - val_accuracy: 0.6743\n",
      "Epoch 56/100\n",
      "708/708 [==============================] - 1s 1ms/step - loss: 0.5024 - accuracy: 0.7308 - val_loss: 0.4115 - val_accuracy: 0.6985\n",
      "Epoch 57/100\n",
      "708/708 [==============================] - 1s 1ms/step - loss: 0.5000 - accuracy: 0.7310 - val_loss: 0.4590 - val_accuracy: 0.6858\n"
     ]
    },
    {
     "name": "stdout",
     "output_type": "stream",
     "text": [
      "Epoch 58/100\n",
      "708/708 [==============================] - 1s 1ms/step - loss: 0.4966 - accuracy: 0.7308 - val_loss: 0.4182 - val_accuracy: 0.6667\n",
      "Epoch 59/100\n",
      "708/708 [==============================] - 1s 1ms/step - loss: 0.5013 - accuracy: 0.7294 - val_loss: 0.4692 - val_accuracy: 0.6514\n",
      "Epoch 60/100\n",
      "708/708 [==============================] - 1s 1ms/step - loss: 0.4985 - accuracy: 0.7368 - val_loss: 0.4003 - val_accuracy: 0.7239\n",
      "Epoch 61/100\n",
      "708/708 [==============================] - 1s 1ms/step - loss: 0.4960 - accuracy: 0.7325 - val_loss: 0.4239 - val_accuracy: 0.7277\n",
      "Epoch 62/100\n",
      "708/708 [==============================] - 1s 1ms/step - loss: 0.4957 - accuracy: 0.7270 - val_loss: 0.4163 - val_accuracy: 0.6934\n",
      "Epoch 63/100\n",
      "708/708 [==============================] - 1s 1ms/step - loss: 0.4919 - accuracy: 0.7396 - val_loss: 0.4896 - val_accuracy: 0.6768\n",
      "Epoch 64/100\n",
      "708/708 [==============================] - 1s 1ms/step - loss: 0.4939 - accuracy: 0.7344 - val_loss: 0.4028 - val_accuracy: 0.7328\n",
      "Epoch 65/100\n",
      "708/708 [==============================] - 1s 1ms/step - loss: 0.4926 - accuracy: 0.7364 - val_loss: 0.4611 - val_accuracy: 0.6514\n",
      "Epoch 66/100\n",
      "708/708 [==============================] - 1s 1ms/step - loss: 0.4912 - accuracy: 0.7308 - val_loss: 0.3826 - val_accuracy: 0.7583\n",
      "Epoch 67/100\n",
      "708/708 [==============================] - 1s 1ms/step - loss: 0.4878 - accuracy: 0.7379 - val_loss: 0.4005 - val_accuracy: 0.7201\n",
      "Epoch 68/100\n",
      "708/708 [==============================] - 1s 1ms/step - loss: 0.4916 - accuracy: 0.7383 - val_loss: 0.4321 - val_accuracy: 0.6934\n",
      "Epoch 69/100\n",
      "708/708 [==============================] - 1s 1ms/step - loss: 0.4935 - accuracy: 0.7342 - val_loss: 0.4427 - val_accuracy: 0.6947\n",
      "Epoch 70/100\n",
      "708/708 [==============================] - 1s 1ms/step - loss: 0.4913 - accuracy: 0.7372 - val_loss: 0.4137 - val_accuracy: 0.6908\n",
      "Epoch 71/100\n",
      "708/708 [==============================] - 1s 1ms/step - loss: 0.4876 - accuracy: 0.7388 - val_loss: 0.4141 - val_accuracy: 0.7099\n",
      "Epoch 72/100\n",
      "708/708 [==============================] - 1s 1ms/step - loss: 0.4874 - accuracy: 0.7412 - val_loss: 0.4378 - val_accuracy: 0.6781\n",
      "Epoch 73/100\n",
      "708/708 [==============================] - 1s 1ms/step - loss: 0.4892 - accuracy: 0.7379 - val_loss: 0.4909 - val_accuracy: 0.6501\n",
      "Epoch 74/100\n",
      "708/708 [==============================] - 1s 1ms/step - loss: 0.4825 - accuracy: 0.7499 - val_loss: 0.3679 - val_accuracy: 0.7455\n",
      "Epoch 75/100\n",
      "708/708 [==============================] - 1s 1ms/step - loss: 0.4801 - accuracy: 0.7439 - val_loss: 0.4422 - val_accuracy: 0.7074\n",
      "Epoch 76/100\n",
      "708/708 [==============================] - 1s 1ms/step - loss: 0.4794 - accuracy: 0.7461 - val_loss: 0.4076 - val_accuracy: 0.6985\n",
      "Epoch 77/100\n",
      "708/708 [==============================] - 1s 1ms/step - loss: 0.4764 - accuracy: 0.7504 - val_loss: 0.5281 - val_accuracy: 0.6170\n",
      "Epoch 78/100\n",
      "708/708 [==============================] - 1s 1ms/step - loss: 0.4823 - accuracy: 0.7480 - val_loss: 0.3919 - val_accuracy: 0.7150\n",
      "Epoch 79/100\n",
      "708/708 [==============================] - 1s 1ms/step - loss: 0.4804 - accuracy: 0.7455 - val_loss: 0.4400 - val_accuracy: 0.6832\n",
      "Epoch 80/100\n",
      "708/708 [==============================] - 1s 1ms/step - loss: 0.4800 - accuracy: 0.7489 - val_loss: 0.3940 - val_accuracy: 0.7125\n",
      "Epoch 81/100\n",
      "708/708 [==============================] - 1s 1ms/step - loss: 0.4756 - accuracy: 0.7491 - val_loss: 0.4559 - val_accuracy: 0.6781\n",
      "Epoch 82/100\n",
      "708/708 [==============================] - 1s 1ms/step - loss: 0.4724 - accuracy: 0.7576 - val_loss: 0.4024 - val_accuracy: 0.7087\n",
      "Epoch 83/100\n",
      "708/708 [==============================] - 1s 1ms/step - loss: 0.4731 - accuracy: 0.7530 - val_loss: 0.4929 - val_accuracy: 0.6692\n",
      "Epoch 84/100\n",
      "708/708 [==============================] - 1s 1ms/step - loss: 0.4699 - accuracy: 0.7536 - val_loss: 0.3652 - val_accuracy: 0.7621\n",
      "Epoch 85/100\n",
      "708/708 [==============================] - 1s 1ms/step - loss: 0.4709 - accuracy: 0.7533 - val_loss: 0.4012 - val_accuracy: 0.7239\n",
      "Epoch 86/100\n",
      "708/708 [==============================] - 1s 1ms/step - loss: 0.4729 - accuracy: 0.7567 - val_loss: 0.4148 - val_accuracy: 0.6858\n",
      "Epoch 87/100\n",
      "708/708 [==============================] - 1s 1ms/step - loss: 0.4677 - accuracy: 0.7570 - val_loss: 0.4106 - val_accuracy: 0.7354\n",
      "Epoch 88/100\n",
      "708/708 [==============================] - 1s 1ms/step - loss: 0.4657 - accuracy: 0.7570 - val_loss: 0.3353 - val_accuracy: 0.7850\n",
      "Epoch 89/100\n",
      "708/708 [==============================] - 1s 1ms/step - loss: 0.4630 - accuracy: 0.7578 - val_loss: 0.4323 - val_accuracy: 0.6718\n",
      "Epoch 90/100\n",
      "708/708 [==============================] - 1s 1ms/step - loss: 0.4687 - accuracy: 0.7610 - val_loss: 0.3436 - val_accuracy: 0.7506\n",
      "Epoch 91/100\n",
      "708/708 [==============================] - 1s 1ms/step - loss: 0.4599 - accuracy: 0.7563 - val_loss: 0.3501 - val_accuracy: 0.7443\n",
      "Epoch 92/100\n",
      "708/708 [==============================] - 1s 1ms/step - loss: 0.4616 - accuracy: 0.7588 - val_loss: 0.3807 - val_accuracy: 0.6972\n",
      "Epoch 93/100\n",
      "708/708 [==============================] - 1s 1ms/step - loss: 0.4592 - accuracy: 0.7581 - val_loss: 0.4377 - val_accuracy: 0.6692\n",
      "Epoch 94/100\n",
      "708/708 [==============================] - 1s 1ms/step - loss: 0.4586 - accuracy: 0.7628 - val_loss: 0.3982 - val_accuracy: 0.7557\n",
      "Epoch 95/100\n",
      "708/708 [==============================] - 1s 1ms/step - loss: 0.4707 - accuracy: 0.7537 - val_loss: 0.4578 - val_accuracy: 0.6221\n",
      "Epoch 96/100\n",
      "708/708 [==============================] - 1s 1ms/step - loss: 0.4584 - accuracy: 0.7549 - val_loss: 0.4615 - val_accuracy: 0.6718\n",
      "Epoch 97/100\n",
      "708/708 [==============================] - 1s 1ms/step - loss: 0.4616 - accuracy: 0.7574 - val_loss: 0.4060 - val_accuracy: 0.7188\n",
      "Epoch 98/100\n",
      "708/708 [==============================] - 1s 1ms/step - loss: 0.4513 - accuracy: 0.7665 - val_loss: 0.5014 - val_accuracy: 0.7048\n",
      "Epoch 99/100\n",
      "708/708 [==============================] - 1s 1ms/step - loss: 0.4530 - accuracy: 0.7598 - val_loss: 0.3986 - val_accuracy: 0.7112\n",
      "Epoch 100/100\n",
      "708/708 [==============================] - 1s 1ms/step - loss: 0.4580 - accuracy: 0.7607 - val_loss: 0.4161 - val_accuracy: 0.7099\n"
     ]
    }
   ],
   "source": [
    "# fitting the model\n",
    "models_history = classifier.fit(x_sm, y_sm, epochs=100,validation_split=0.10, batch_size=10,callbacks=early_stopping)"
   ]
  },
  {
   "cell_type": "code",
   "execution_count": 200,
   "id": "c3b3d78b",
   "metadata": {},
   "outputs": [
    {
     "data": {
      "text/plain": [
       "dict_keys(['loss', 'accuracy', 'val_loss', 'val_accuracy'])"
      ]
     },
     "execution_count": 200,
     "metadata": {},
     "output_type": "execute_result"
    }
   ],
   "source": [
    "models_history.history.keys()"
   ]
  },
  {
   "cell_type": "code",
   "execution_count": 201,
   "id": "a48875b4",
   "metadata": {},
   "outputs": [
    {
     "data": {
      "image/png": "[encoded data removed]",
      "text/plain": [
       "<Figure size 640x480 with 1 Axes>"
      ]
     },
     "metadata": {},
     "output_type": "display_data"
    }
   ],
   "source": [
    "plt.plot(models_history.history[\"accuracy\"])\n",
    "plt.plot(models_history.history[\"val_accuracy\"])\n",
    "plt.title(\"model accuracy\")\n",
    "plt.ylabel(\"accuracy\")\n",
    "plt.xlabel(\"epoch\")\n",
    "plt.legend([\"train\",\"test\"],loc=\"upper left\")\n",
    "plt.show()\n"
   ]
  },
  {
   "cell_type": "code",
   "execution_count": 202,
   "id": "fa3c0761",
   "metadata": {},
   "outputs": [
    {
     "data": {
      "image/png": "[encoded data removed]",
      "text/plain": [
       "<Figure size 640x480 with 1 Axes>"
      ]
     },
     "metadata": {},
     "output_type": "display_data"
    }
   ],
   "source": [
    "plt.plot(models_history.history[\"loss\"])\n",
    "plt.plot(models_history.history[\"val_loss\"])\n",
    "plt.title(\"model loss\")\n",
    "plt.ylabel(\"loss\")\n",
    "plt.xlabel(\"epoch\")\n",
    "plt.legend([\"train\",\"test\"],loc=\"upper left\")\n",
    "plt.show()\n"
   ]
  },
  {
   "cell_type": "code",
   "execution_count": 203,
   "id": "05b1c4c8",
   "metadata": {},
   "outputs": [
    {
     "name": "stdout",
     "output_type": "stream",
     "text": [
      "58/58 [==============================] - 0s 750us/step\n"
     ]
    },
    {
     "data": {
      "text/plain": [
       "array([[ True],\n",
       "       [ True],\n",
       "       [ True],\n",
       "       ...,\n",
       "       [False],\n",
       "       [ True],\n",
       "       [ True]])"
      ]
     },
     "execution_count": 203,
     "metadata": {},
     "output_type": "execute_result"
    }
   ],
   "source": [
    "y_pred = classifier.predict(x_test)\n",
    "y_pred = (y_pred > 0.5)\n",
    "y_pred"
   ]
  },
  {
   "cell_type": "code",
   "execution_count": 204,
   "id": "3f5fb347",
   "metadata": {},
   "outputs": [
    {
     "name": "stdout",
     "output_type": "stream",
     "text": [
      "[[ 233  334]\n",
      " [ 187 1102]]\n"
     ]
    }
   ],
   "source": [
    "print(confusion_matrix(y_test,y_pred))"
   ]
  },
  {
   "cell_type": "code",
   "execution_count": 208,
   "id": "9655176a",
   "metadata": {},
   "outputs": [
    {
     "data": {
      "text/plain": [
       "0.7192887931034483"
      ]
     },
     "execution_count": 208,
     "metadata": {},
     "output_type": "execute_result"
    }
   ],
   "source": [
    "acc_4 = accuracy_score(y_test,y_pred)\n",
    "acc_4"
   ]
  },
  {
   "cell_type": "markdown",
   "id": "df6716f8",
   "metadata": {},
   "source": [
    "### Gaussian naive_bayes"
   ]
  },
  {
   "cell_type": "code",
   "execution_count": 75,
   "id": "0b1da52b",
   "metadata": {},
   "outputs": [
    {
     "data": {
      "text/plain": [
       "GaussianNB()"
      ]
     },
     "execution_count": 75,
     "metadata": {},
     "output_type": "execute_result"
    }
   ],
   "source": [
    "from sklearn.naive_bayes import GaussianNB\n",
    "naive = GaussianNB()\n",
    "naive.fit(x_sm,y_sm)"
   ]
  },
  {
   "cell_type": "code",
   "execution_count": 76,
   "id": "04e1857f",
   "metadata": {},
   "outputs": [
    {
     "name": "stdout",
     "output_type": "stream",
     "text": [
      "__accuracy score__ 0.665948275862069\n",
      "__recall_score__ 0.7827557058326289\n",
      "__precision_score__ 0.7183863460046548\n"
     ]
    }
   ],
   "source": [
    "Gausain = naive.predict(x_test)\n",
    "print(\"__accuracy score__\",accuracy_score(Gausain,y_test))\n",
    "nb = accuracy_score(Gausain,y_test)\n",
    "print(\"__recall_score__\",recall_score(Gausain,y_test))\n",
    "print(\"__precision_score__\",precision_score(Gausain,y_test))"
   ]
  },
  {
   "cell_type": "markdown",
   "id": "0044a33b",
   "metadata": {},
   "source": [
    "### Support Vector Machine (SVM)"
   ]
  },
  {
   "cell_type": "code",
   "execution_count": 77,
   "id": "32392419",
   "metadata": {},
   "outputs": [
    {
     "data": {
      "text/plain": [
       "SVC()"
      ]
     },
     "execution_count": 77,
     "metadata": {},
     "output_type": "execute_result"
    }
   ],
   "source": [
    "from sklearn.svm import SVC\n",
    "svm = SVC()\n",
    "svm.fit(x_sm,y_sm)"
   ]
  },
  {
   "cell_type": "code",
   "execution_count": 78,
   "id": "b79a2684",
   "metadata": {},
   "outputs": [
    {
     "name": "stdout",
     "output_type": "stream",
     "text": [
      "__accuracy score__ 0.6546336206896551\n",
      "__recall_score__ 0.8214285714285714\n",
      "__precision_score__ 0.6423584173778123\n"
     ]
    }
   ],
   "source": [
    "svc = svm.predict(x_test)\n",
    "print(\"__accuracy score__\",accuracy_score(svc,y_test))\n",
    "acc_5 = accuracy_score(svc,y_test)\n",
    "print(\"__recall_score__\",recall_score(svc,y_test))\n",
    "print(\"__precision_score__\",precision_score(svc,y_test))"
   ]
  },
  {
   "cell_type": "code",
   "execution_count": null,
   "id": "dbecfd50",
   "metadata": {},
   "outputs": [],
   "source": []
  },
  {
   "cell_type": "code",
   "execution_count": 79,
   "id": "da0da518",
   "metadata": {},
   "outputs": [],
   "source": [
    "param_grid = {\"C\":[0.1,1,10,100,1000],\"gamma\":[1,0.1,0.01,0.001,0.0001],\"kernel\":[\"rbf\",\"Sigmoid\",\"Linear\"]}"
   ]
  },
  {
   "cell_type": "code",
   "execution_count": 80,
   "id": "abf4e709",
   "metadata": {},
   "outputs": [],
   "source": [
    "grid = GridSearchCV(svm, param_grid, scoring=\"accuracy\",cv=3)"
   ]
  },
  {
   "cell_type": "code",
   "execution_count": 81,
   "id": "eb1be3e8",
   "metadata": {},
   "outputs": [
    {
     "data": {
      "text/plain": [
       "GridSearchCV(cv=3, estimator=SVC(),\n",
       "             param_grid={'C': [0.1, 1, 10, 100, 1000],\n",
       "                         'gamma': [1, 0.1, 0.01, 0.001, 0.0001],\n",
       "                         'kernel': ['rbf', 'Sigmoid', 'Linear']},\n",
       "             scoring='accuracy')"
      ]
     },
     "execution_count": 81,
     "metadata": {},
     "output_type": "execute_result"
    }
   ],
   "source": [
    "grid.fit(x_sm, y_sm)"
   ]
  },
  {
   "cell_type": "code",
   "execution_count": 82,
   "id": "69f47b33",
   "metadata": {},
   "outputs": [
    {
     "data": {
      "text/plain": [
       "{'C': 10, 'gamma': 1, 'kernel': 'rbf'}"
      ]
     },
     "execution_count": 82,
     "metadata": {},
     "output_type": "execute_result"
    }
   ],
   "source": [
    "y_pred1 = grid.predict(x_test)\n",
    "grid.best_params_"
   ]
  },
  {
   "cell_type": "code",
   "execution_count": 83,
   "id": "6a005a88",
   "metadata": {},
   "outputs": [
    {
     "data": {
      "text/plain": [
       "SVC(C=10, gamma=1)"
      ]
     },
     "execution_count": 83,
     "metadata": {},
     "output_type": "execute_result"
    }
   ],
   "source": [
    "sv2 = SVC(C = 10,gamma = 1,kernel=\"rbf\")\n",
    "sv2.fit(x_sm,y_sm)"
   ]
  },
  {
   "cell_type": "code",
   "execution_count": 84,
   "id": "d3369544",
   "metadata": {},
   "outputs": [
    {
     "data": {
      "text/plain": [
       "0.7085129310344828"
      ]
     },
     "execution_count": 84,
     "metadata": {},
     "output_type": "execute_result"
    }
   ],
   "source": [
    "y_pred1 = sv2.predict(x_test)\n",
    "r3 = accuracy_score(y_test,y_pred1)\n",
    "r3\n"
   ]
  },
  {
   "cell_type": "markdown",
   "id": "a9b3bfc7",
   "metadata": {},
   "source": [
    "## Model Evaulation Score"
   ]
  },
  {
   "cell_type": "code",
   "execution_count": 209,
   "id": "bab28012",
   "metadata": {},
   "outputs": [
    {
     "data": {
      "text/html": [
       "<div>\n",
       "<style scoped>\n",
       "    .dataframe tbody tr th:only-of-type {\n",
       "        vertical-align: middle;\n",
       "    }\n",
       "\n",
       "    .dataframe tbody tr th {\n",
       "        vertical-align: top;\n",
       "    }\n",
       "\n",
       "    .dataframe thead th {\n",
       "        text-align: right;\n",
       "    }\n",
       "</style>\n",
       "<table border=\"1\" class=\"dataframe\">\n",
       "  <thead>\n",
       "    <tr style=\"text-align: right;\">\n",
       "      <th></th>\n",
       "      <th>Model</th>\n",
       "      <th>Accuracy</th>\n",
       "      <th>Hyperparameter</th>\n",
       "    </tr>\n",
       "  </thead>\n",
       "  <tbody>\n",
       "    <tr>\n",
       "      <th>0</th>\n",
       "      <td>Logistic Regression</td>\n",
       "      <td>66.163793</td>\n",
       "      <td>Not Available</td>\n",
       "    </tr>\n",
       "    <tr>\n",
       "      <th>1</th>\n",
       "      <td>DecisionTreeClassifier</td>\n",
       "      <td>66.702586</td>\n",
       "      <td>74.084052</td>\n",
       "    </tr>\n",
       "    <tr>\n",
       "      <th>2</th>\n",
       "      <td>RandomForestClassifier</td>\n",
       "      <td>72.844828</td>\n",
       "      <td>74.622845</td>\n",
       "    </tr>\n",
       "    <tr>\n",
       "      <th>3</th>\n",
       "      <td>XGBClassifier</td>\n",
       "      <td>71.928879</td>\n",
       "      <td>76.670259</td>\n",
       "    </tr>\n",
       "    <tr>\n",
       "      <th>4</th>\n",
       "      <td>ANN Classifier</td>\n",
       "      <td>71.928879</td>\n",
       "      <td>Not Available</td>\n",
       "    </tr>\n",
       "    <tr>\n",
       "      <th>5</th>\n",
       "      <td>GaussianNB</td>\n",
       "      <td>66.594828</td>\n",
       "      <td>Not Available</td>\n",
       "    </tr>\n",
       "    <tr>\n",
       "      <th>6</th>\n",
       "      <td>SVC</td>\n",
       "      <td>65.463362</td>\n",
       "      <td>70.851293</td>\n",
       "    </tr>\n",
       "  </tbody>\n",
       "</table>\n",
       "</div>"
      ],
      "text/plain": [
       "                    Model   Accuracy Hyperparameter\n",
       "0     Logistic Regression  66.163793  Not Available\n",
       "1  DecisionTreeClassifier  66.702586      74.084052\n",
       "2  RandomForestClassifier  72.844828      74.622845\n",
       "3           XGBClassifier  71.928879      76.670259\n",
       "4         ANN Classifier   71.928879  Not Available\n",
       "5              GaussianNB  66.594828  Not Available\n",
       "6                     SVC  65.463362      70.851293"
      ]
     },
     "execution_count": 209,
     "metadata": {},
     "output_type": "execute_result"
    }
   ],
   "source": [
    "pd.DataFrame({\"Model\":[\"Logistic Regression\",\"DecisionTreeClassifier\",\"RandomForestClassifier\",\"XGBClassifier\",\"ANN Classifier \",\"GaussianNB\",\"SVC\"],\n",
    "             \"Accuracy\":[acc*100,acc_1*100,acc_2*100,acc_3*100,acc_4*100,nb*100,acc_5*100],\n",
    "             \"Hyperparameter\":[\"Not Available\",par*100,par1*100,r2*100,\"Not Available\",\"Not Available\",r3*100]})"
   ]
  },
  {
   "cell_type": "markdown",
   "id": "6a77d31f",
   "metadata": {},
   "source": [
    "## Conclusion of Model Comparison Report"
   ]
  },
  {
   "cell_type": "markdown",
   "id": "34e87e8a",
   "metadata": {},
   "source": [
    "I have used 7 Algorithmns which name are Logistic Regression,DecisionTreeClassifier,RandomForestClassifier,XGBClassifier and ANN Classifier,GaussianNB,SVC for training the model. I got __76.67__ percentage in __XGBClassifier with hyperparameter__ Tunning which are maximum than all Algorithmn and its working Mindblowing some time prediction margin are few far even,after that model predict perfect result. So,I am perfering XGBClassifier with hyperparameter Tunning for predicting the Sales."
   ]
  },
  {
   "cell_type": "markdown",
   "id": "d2a576eb",
   "metadata": {},
   "source": [
    "                                                  DONE"
   ]
  }
 ],
 "metadata": {
  "kernelspec": {
   "display_name": "Python 3 (ipykernel)",
   "language": "python",
   "name": "python3"
  },
  "language_info": {
   "codemirror_mode": {
    "name": "ipython",
    "version": 3
   },
   "file_extension": ".py",
   "mimetype": "text/x-python",
   "name": "python",
   "nbconvert_exporter": "python",
   "pygments_lexer": "ipython3",
   "version": "3.9.13"
  }
 },
 "nbformat": 4,
 "nbformat_minor": 5
}
